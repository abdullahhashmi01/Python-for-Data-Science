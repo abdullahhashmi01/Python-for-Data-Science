{
 "cells": [
  {
   "cell_type": "code",
   "execution_count": 5,
   "id": "c59bf8df",
   "metadata": {},
   "outputs": [
    {
     "name": "stdout",
     "output_type": "stream",
     "text": [
      "2.3.1\n"
     ]
    }
   ],
   "source": [
    "import pandas as pd\n",
    "print(pd.__version__)\n"
   ]
  },
  {
   "cell_type": "code",
   "execution_count": 6,
   "id": "c677a799",
   "metadata": {},
   "outputs": [
    {
     "name": "stdout",
     "output_type": "stream",
     "text": [
      "0    10\n",
      "1    20\n",
      "2    30\n",
      "3    40\n",
      "4    50\n",
      "dtype: int64\n",
      "<class 'pandas.core.series.Series'>\n"
     ]
    }
   ],
   "source": [
    "import pandas as pd\n",
    "\n",
    "# creating a series from a list\n",
    "data = [10, 20, 30, 40, 50]\n",
    "series_from_list = pd.Series(data)  # Capital S\n",
    "print(series_from_list)\n",
    "print(type(series_from_list))\n"
   ]
  },
  {
   "cell_type": "code",
   "execution_count": 7,
   "id": "b43d36fb",
   "metadata": {},
   "outputs": [
    {
     "name": "stdout",
     "output_type": "stream",
     "text": [
      "0    1\n",
      "1    2\n",
      "2    3\n",
      "3    4\n",
      "4    5\n",
      "dtype: int64\n"
     ]
    }
   ],
   "source": [
    "import pandas as pd \n",
    "import numpy as np \n",
    "\n",
    "# creating a series from a Numpy array\n",
    "numpy_array = np.array([1, 2, 3, 4, 5])\n",
    "series_from_numpy = pd.Series(numpy_array)  # Capital S\n",
    "print(series_from_numpy)\n"
   ]
  },
  {
   "cell_type": "code",
   "execution_count": 8,
   "id": "c9a38aaa",
   "metadata": {},
   "outputs": [
    {
     "data": {
      "text/plain": [
       "A    10\n",
       "B    20\n",
       "C    30\n",
       "D    40\n",
       "E    50\n",
       "dtype: int64"
      ]
     },
     "execution_count": 8,
     "metadata": {},
     "output_type": "execute_result"
    }
   ],
   "source": [
    "import pandas as pd \n",
    "\n",
    "# creating a series with custom index labels\n",
    "data =[10,20,30,40,50]\n",
    "custom_index = pd.Series(data, index=['A','B','C','D','E'])\n",
    "custom_index"
   ]
  },
  {
   "cell_type": "markdown",
   "id": "f185c15b",
   "metadata": {},
   "source": [
    "CREATING A DATAFRAME FROM A DICTIONARY"
   ]
  },
  {
   "cell_type": "code",
   "execution_count": 9,
   "id": "25a6894a",
   "metadata": {},
   "outputs": [
    {
     "name": "stdout",
     "output_type": "stream",
     "text": [
      "DataFrame created from dictionary:\n"
     ]
    },
    {
     "data": {
      "text/html": [
       "<div>\n",
       "<style scoped>\n",
       "    .dataframe tbody tr th:only-of-type {\n",
       "        vertical-align: middle;\n",
       "    }\n",
       "\n",
       "    .dataframe tbody tr th {\n",
       "        vertical-align: top;\n",
       "    }\n",
       "\n",
       "    .dataframe thead th {\n",
       "        text-align: right;\n",
       "    }\n",
       "</style>\n",
       "<table border=\"1\" class=\"dataframe\">\n",
       "  <thead>\n",
       "    <tr style=\"text-align: right;\">\n",
       "      <th></th>\n",
       "      <th>name</th>\n",
       "      <th>age</th>\n",
       "    </tr>\n",
       "  </thead>\n",
       "  <tbody>\n",
       "    <tr>\n",
       "      <th>0</th>\n",
       "      <td>alice</td>\n",
       "      <td>25</td>\n",
       "    </tr>\n",
       "    <tr>\n",
       "      <th>1</th>\n",
       "      <td>bob</td>\n",
       "      <td>30</td>\n",
       "    </tr>\n",
       "    <tr>\n",
       "      <th>2</th>\n",
       "      <td>cahrlie</td>\n",
       "      <td>45</td>\n",
       "    </tr>\n",
       "  </tbody>\n",
       "</table>\n",
       "</div>"
      ],
      "text/plain": [
       "      name  age\n",
       "0    alice   25\n",
       "1      bob   30\n",
       "2  cahrlie   45"
      ]
     },
     "metadata": {},
     "output_type": "display_data"
    },
    {
     "data": {
      "text/plain": [
       "pandas.core.frame.DataFrame"
      ]
     },
     "metadata": {},
     "output_type": "display_data"
    }
   ],
   "source": [
    "import pandas as pd \n",
    "data ={'name': ['alice','bob','cahrlie'],\n",
    "                'age':[25,30,45]}\n",
    "\n",
    "df_from_dict =pd.DataFrame(data)\n",
    "\n",
    "# print the dataframe\n",
    "print(\"DataFrame created from dictionary:\")\n",
    "display(df_from_dict)\n",
    "display(type(df_from_dict))"
   ]
  },
  {
   "cell_type": "code",
   "execution_count": 10,
   "id": "a73873b8",
   "metadata": {},
   "outputs": [
    {
     "name": "stdout",
     "output_type": "stream",
     "text": [
      "DataFrame created from lists with custom column names:\n",
      "      Name  Age\n",
      "0    Alice   23\n",
      "1      Bob   34\n",
      "2  Charlie   35\n"
     ]
    }
   ],
   "source": [
    "import pandas as pd\n",
    "\n",
    "# creating a dataframe from a list of lists with custom column names\n",
    "data_lists = [[\"Alice\", 23],\n",
    "              [\"Bob\", 34],\n",
    "              [\"Charlie\", 35]]\n",
    "\n",
    "df_from_list = pd.DataFrame(data_lists, columns=['Name', 'Age'])\n",
    "\n",
    "print(\"DataFrame created from lists with custom column names:\")\n",
    "print(df_from_list)  # use print() instead of display() in normal Python\n",
    "\n",
    "# save to CSV\n",
    "df_from_list.to_csv('D:/Usama project/data10.csv')"
   ]
  },
  {
   "cell_type": "code",
   "execution_count": 11,
   "id": "b12d77dc",
   "metadata": {},
   "outputs": [
    {
     "name": "stdout",
     "output_type": "stream",
     "text": [
      "DataFrame created from csv file:\n"
     ]
    },
    {
     "data": {
      "text/html": [
       "<div>\n",
       "<style scoped>\n",
       "    .dataframe tbody tr th:only-of-type {\n",
       "        vertical-align: middle;\n",
       "    }\n",
       "\n",
       "    .dataframe tbody tr th {\n",
       "        vertical-align: top;\n",
       "    }\n",
       "\n",
       "    .dataframe thead th {\n",
       "        text-align: right;\n",
       "    }\n",
       "</style>\n",
       "<table border=\"1\" class=\"dataframe\">\n",
       "  <thead>\n",
       "    <tr style=\"text-align: right;\">\n",
       "      <th></th>\n",
       "      <th>Index</th>\n",
       "      <th>Customer Id</th>\n",
       "      <th>First Name</th>\n",
       "      <th>Last Name</th>\n",
       "      <th>Company</th>\n",
       "      <th>City</th>\n",
       "      <th>Country</th>\n",
       "      <th>Phone 1</th>\n",
       "      <th>Phone 2</th>\n",
       "      <th>Email</th>\n",
       "      <th>Subscription Date</th>\n",
       "      <th>Website</th>\n",
       "    </tr>\n",
       "  </thead>\n",
       "  <tbody>\n",
       "    <tr>\n",
       "      <th>0</th>\n",
       "      <td>1</td>\n",
       "      <td>DD37Cf93aecA6Dc</td>\n",
       "      <td>Sheryl</td>\n",
       "      <td>Baxter</td>\n",
       "      <td>Rasmussen Group</td>\n",
       "      <td>East Leonard</td>\n",
       "      <td>Chile</td>\n",
       "      <td>229.077.5154</td>\n",
       "      <td>397.884.0519x718</td>\n",
       "      <td>zunigavanessa@smith.info</td>\n",
       "      <td>8/24/2020</td>\n",
       "      <td>http://www.stephenson.com/</td>\n",
       "    </tr>\n",
       "    <tr>\n",
       "      <th>1</th>\n",
       "      <td>2</td>\n",
       "      <td>1Ef7b82A4CAAD10</td>\n",
       "      <td>Preston</td>\n",
       "      <td>Lozano</td>\n",
       "      <td>Vega-Gentry</td>\n",
       "      <td>East Jimmychester</td>\n",
       "      <td>Djibouti</td>\n",
       "      <td>5153435776</td>\n",
       "      <td>686-620-1820x944</td>\n",
       "      <td>vmata@colon.com</td>\n",
       "      <td>4/23/2021</td>\n",
       "      <td>http://www.hobbs.com/</td>\n",
       "    </tr>\n",
       "    <tr>\n",
       "      <th>2</th>\n",
       "      <td>3</td>\n",
       "      <td>6F94879bDAfE5a6</td>\n",
       "      <td>Roy</td>\n",
       "      <td>Berry</td>\n",
       "      <td>Murillo-Perry</td>\n",
       "      <td>Isabelborough</td>\n",
       "      <td>Antigua and Barbuda</td>\n",
       "      <td>-1199</td>\n",
       "      <td>(496)978-3969x58947</td>\n",
       "      <td>beckycarr@hogan.com</td>\n",
       "      <td>3/25/2020</td>\n",
       "      <td>http://www.lawrence.com/</td>\n",
       "    </tr>\n",
       "    <tr>\n",
       "      <th>3</th>\n",
       "      <td>4</td>\n",
       "      <td>5Cef8BFA16c5e3c</td>\n",
       "      <td>Linda</td>\n",
       "      <td>Olsen</td>\n",
       "      <td>Dominguez, Mcmillan and Donovan</td>\n",
       "      <td>Bensonview</td>\n",
       "      <td>Dominican Republic</td>\n",
       "      <td>001-808-617-6467x12895</td>\n",
       "      <td>-9892</td>\n",
       "      <td>stanleyblackwell@benson.org</td>\n",
       "      <td>6/2/2020</td>\n",
       "      <td>http://www.good-lyons.com/</td>\n",
       "    </tr>\n",
       "    <tr>\n",
       "      <th>4</th>\n",
       "      <td>5</td>\n",
       "      <td>053d585Ab6b3159</td>\n",
       "      <td>Joanna</td>\n",
       "      <td>Bender</td>\n",
       "      <td>Martin, Lang and Andrade</td>\n",
       "      <td>West Priscilla</td>\n",
       "      <td>Slovakia (Slovak Republic)</td>\n",
       "      <td>001-234-203-0635x76146</td>\n",
       "      <td>001-199-446-3860x3486</td>\n",
       "      <td>colinalvarado@miles.net</td>\n",
       "      <td>4/17/2021</td>\n",
       "      <td>https://goodwin-ingram.com/</td>\n",
       "    </tr>\n",
       "    <tr>\n",
       "      <th>...</th>\n",
       "      <td>...</td>\n",
       "      <td>...</td>\n",
       "      <td>...</td>\n",
       "      <td>...</td>\n",
       "      <td>...</td>\n",
       "      <td>...</td>\n",
       "      <td>...</td>\n",
       "      <td>...</td>\n",
       "      <td>...</td>\n",
       "      <td>...</td>\n",
       "      <td>...</td>\n",
       "      <td>...</td>\n",
       "    </tr>\n",
       "    <tr>\n",
       "      <th>95</th>\n",
       "      <td>96</td>\n",
       "      <td>cb8E23e48d22Eae</td>\n",
       "      <td>Karl</td>\n",
       "      <td>Greer</td>\n",
       "      <td>Carey LLC</td>\n",
       "      <td>East Richard</td>\n",
       "      <td>Guyana</td>\n",
       "      <td>(188)169-1674x58692</td>\n",
       "      <td>001-841-293-3519x614</td>\n",
       "      <td>hhart@jensen.com</td>\n",
       "      <td>1/30/2022</td>\n",
       "      <td>http://hayes-perez.com/</td>\n",
       "    </tr>\n",
       "    <tr>\n",
       "      <th>96</th>\n",
       "      <td>97</td>\n",
       "      <td>CeD220bdAaCfaDf</td>\n",
       "      <td>Lynn</td>\n",
       "      <td>Atkinson</td>\n",
       "      <td>Ware, Burns and Oneal</td>\n",
       "      <td>New Bradview</td>\n",
       "      <td>Sri Lanka</td>\n",
       "      <td>-3769</td>\n",
       "      <td>605.413.3198</td>\n",
       "      <td>vkemp@ferrell.com</td>\n",
       "      <td>7/10/2021</td>\n",
       "      <td>https://novak-allison.com/</td>\n",
       "    </tr>\n",
       "    <tr>\n",
       "      <th>97</th>\n",
       "      <td>98</td>\n",
       "      <td>28CDbC0dFe4b1Db</td>\n",
       "      <td>Fred</td>\n",
       "      <td>Guerra</td>\n",
       "      <td>Schmitt-Jones</td>\n",
       "      <td>Ortegaland</td>\n",
       "      <td>Solomon Islands</td>\n",
       "      <td>+1-753-067-8419x7170</td>\n",
       "      <td>+1-632-666-7507x92121</td>\n",
       "      <td>swagner@kane.org</td>\n",
       "      <td>9/18/2021</td>\n",
       "      <td>https://www.ross.com/</td>\n",
       "    </tr>\n",
       "    <tr>\n",
       "      <th>98</th>\n",
       "      <td>99</td>\n",
       "      <td>c23d1D9EE8DEB0A</td>\n",
       "      <td>Yvonne</td>\n",
       "      <td>Farmer</td>\n",
       "      <td>Fitzgerald-Harrell</td>\n",
       "      <td>Lake Elijahview</td>\n",
       "      <td>Aruba</td>\n",
       "      <td>(530)311-9786</td>\n",
       "      <td>001-869-452-0943x12424</td>\n",
       "      <td>mccarthystephen@horn-green.biz</td>\n",
       "      <td>8/11/2021</td>\n",
       "      <td>http://watkins.info/</td>\n",
       "    </tr>\n",
       "    <tr>\n",
       "      <th>99</th>\n",
       "      <td>100</td>\n",
       "      <td>2354a0E336A91A1</td>\n",
       "      <td>Clarence</td>\n",
       "      <td>Haynes</td>\n",
       "      <td>Le, Nash and Cross</td>\n",
       "      <td>Judymouth</td>\n",
       "      <td>Honduras</td>\n",
       "      <td>(753)813-6941</td>\n",
       "      <td>783.639.1472</td>\n",
       "      <td>colleen91@faulkner.biz</td>\n",
       "      <td>3/11/2020</td>\n",
       "      <td>http://www.hatfield-saunders.net/</td>\n",
       "    </tr>\n",
       "  </tbody>\n",
       "</table>\n",
       "<p>100 rows × 12 columns</p>\n",
       "</div>"
      ],
      "text/plain": [
       "    Index      Customer Id First Name Last Name  \\\n",
       "0       1  DD37Cf93aecA6Dc     Sheryl    Baxter   \n",
       "1       2  1Ef7b82A4CAAD10    Preston    Lozano   \n",
       "2       3  6F94879bDAfE5a6        Roy     Berry   \n",
       "3       4  5Cef8BFA16c5e3c      Linda     Olsen   \n",
       "4       5  053d585Ab6b3159     Joanna    Bender   \n",
       "..    ...              ...        ...       ...   \n",
       "95     96  cb8E23e48d22Eae       Karl     Greer   \n",
       "96     97  CeD220bdAaCfaDf       Lynn  Atkinson   \n",
       "97     98  28CDbC0dFe4b1Db       Fred    Guerra   \n",
       "98     99  c23d1D9EE8DEB0A     Yvonne    Farmer   \n",
       "99    100  2354a0E336A91A1   Clarence    Haynes   \n",
       "\n",
       "                            Company               City  \\\n",
       "0                   Rasmussen Group       East Leonard   \n",
       "1                       Vega-Gentry  East Jimmychester   \n",
       "2                     Murillo-Perry      Isabelborough   \n",
       "3   Dominguez, Mcmillan and Donovan         Bensonview   \n",
       "4          Martin, Lang and Andrade     West Priscilla   \n",
       "..                              ...                ...   \n",
       "95                        Carey LLC       East Richard   \n",
       "96            Ware, Burns and Oneal       New Bradview   \n",
       "97                    Schmitt-Jones         Ortegaland   \n",
       "98               Fitzgerald-Harrell    Lake Elijahview   \n",
       "99               Le, Nash and Cross          Judymouth   \n",
       "\n",
       "                       Country                 Phone 1  \\\n",
       "0                        Chile            229.077.5154   \n",
       "1                     Djibouti              5153435776   \n",
       "2          Antigua and Barbuda                   -1199   \n",
       "3           Dominican Republic  001-808-617-6467x12895   \n",
       "4   Slovakia (Slovak Republic)  001-234-203-0635x76146   \n",
       "..                         ...                     ...   \n",
       "95                      Guyana     (188)169-1674x58692   \n",
       "96                   Sri Lanka                   -3769   \n",
       "97             Solomon Islands    +1-753-067-8419x7170   \n",
       "98                       Aruba           (530)311-9786   \n",
       "99                    Honduras           (753)813-6941   \n",
       "\n",
       "                   Phone 2                           Email Subscription Date  \\\n",
       "0         397.884.0519x718        zunigavanessa@smith.info         8/24/2020   \n",
       "1         686-620-1820x944                 vmata@colon.com         4/23/2021   \n",
       "2      (496)978-3969x58947             beckycarr@hogan.com         3/25/2020   \n",
       "3                    -9892     stanleyblackwell@benson.org          6/2/2020   \n",
       "4    001-199-446-3860x3486         colinalvarado@miles.net         4/17/2021   \n",
       "..                     ...                             ...               ...   \n",
       "95    001-841-293-3519x614                hhart@jensen.com         1/30/2022   \n",
       "96            605.413.3198               vkemp@ferrell.com         7/10/2021   \n",
       "97   +1-632-666-7507x92121                swagner@kane.org         9/18/2021   \n",
       "98  001-869-452-0943x12424  mccarthystephen@horn-green.biz         8/11/2021   \n",
       "99            783.639.1472          colleen91@faulkner.biz         3/11/2020   \n",
       "\n",
       "                              Website  \n",
       "0          http://www.stephenson.com/  \n",
       "1               http://www.hobbs.com/  \n",
       "2            http://www.lawrence.com/  \n",
       "3          http://www.good-lyons.com/  \n",
       "4         https://goodwin-ingram.com/  \n",
       "..                                ...  \n",
       "95            http://hayes-perez.com/  \n",
       "96         https://novak-allison.com/  \n",
       "97              https://www.ross.com/  \n",
       "98               http://watkins.info/  \n",
       "99  http://www.hatfield-saunders.net/  \n",
       "\n",
       "[100 rows x 12 columns]"
      ]
     },
     "metadata": {},
     "output_type": "display_data"
    }
   ],
   "source": [
    "import pandas as pd \n",
    "\n",
    "# creating a DataFrame from a CSV file \n",
    "df_from_csv = pd.read_csv(\"D:/data.csv\")\n",
    "\n",
    "# print dataframe \n",
    "print(\"DataFrame created from csv file:\")\n",
    "display(df_from_csv)"
   ]
  },
  {
   "cell_type": "code",
   "execution_count": 12,
   "id": "1271ad1d",
   "metadata": {},
   "outputs": [
    {
     "name": "stdout",
     "output_type": "stream",
     "text": [
      "Index(['Index', 'Customer Id', 'First Name', 'Last Name', 'Company', 'City',\n",
      "       'Country', 'Phone 1', 'Phone 2', 'Email', 'Subscription Date',\n",
      "       'Website'],\n",
      "      dtype='object')\n",
      "0     DD37Cf93aecA6Dc\n",
      "1     1Ef7b82A4CAAD10\n",
      "2     6F94879bDAfE5a6\n",
      "3     5Cef8BFA16c5e3c\n",
      "4     053d585Ab6b3159\n",
      "           ...       \n",
      "95    cb8E23e48d22Eae\n",
      "96    CeD220bdAaCfaDf\n",
      "97    28CDbC0dFe4b1Db\n",
      "98    c23d1D9EE8DEB0A\n",
      "99    2354a0E336A91A1\n",
      "Name: Customer Id, Length: 100, dtype: object\n"
     ]
    }
   ],
   "source": [
    "print(df_from_csv.columns)\n",
    "\n",
    "# selecting a single column\n",
    "name_column =df_from_csv['Customer Id']\n",
    "print(name_column)"
   ]
  },
  {
   "cell_type": "code",
   "execution_count": null,
   "id": "fdf020c4",
   "metadata": {},
   "outputs": [
    {
     "data": {
      "text/html": [
       "<div>\n",
       "<style scoped>\n",
       "    .dataframe tbody tr th:only-of-type {\n",
       "        vertical-align: middle;\n",
       "    }\n",
       "\n",
       "    .dataframe tbody tr th {\n",
       "        vertical-align: top;\n",
       "    }\n",
       "\n",
       "    .dataframe thead th {\n",
       "        text-align: right;\n",
       "    }\n",
       "</style>\n",
       "<table border=\"1\" class=\"dataframe\">\n",
       "  <thead>\n",
       "    <tr style=\"text-align: right;\">\n",
       "      <th></th>\n",
       "      <th>Index</th>\n",
       "      <th>Customer Id</th>\n",
       "      <th>First Name</th>\n",
       "      <th>Last Name</th>\n",
       "      <th>Company</th>\n",
       "      <th>City</th>\n",
       "      <th>Country</th>\n",
       "      <th>Phone 1</th>\n",
       "      <th>Phone 2</th>\n",
       "      <th>Email</th>\n",
       "      <th>Subscription Date</th>\n",
       "      <th>Website</th>\n",
       "    </tr>\n",
       "  </thead>\n",
       "  <tbody>\n",
       "    <tr>\n",
       "      <th>2</th>\n",
       "      <td>3</td>\n",
       "      <td>6F94879bDAfE5a6</td>\n",
       "      <td>Roy</td>\n",
       "      <td>Berry</td>\n",
       "      <td>Murillo-Perry</td>\n",
       "      <td>Isabelborough</td>\n",
       "      <td>Antigua and Barbuda</td>\n",
       "      <td>-1199</td>\n",
       "      <td>(496)978-3969x58947</td>\n",
       "      <td>beckycarr@hogan.com</td>\n",
       "      <td>3/25/2020</td>\n",
       "      <td>http://www.lawrence.com/</td>\n",
       "    </tr>\n",
       "  </tbody>\n",
       "</table>\n",
       "</div>"
      ],
      "text/plain": [
       "   Index      Customer Id First Name Last Name        Company           City  \\\n",
       "2      3  6F94879bDAfE5a6        Roy     Berry  Murillo-Perry  Isabelborough   \n",
       "\n",
       "               Country Phone 1              Phone 2                Email  \\\n",
       "2  Antigua and Barbuda   -1199  (496)978-3969x58947  beckycarr@hogan.com   \n",
       "\n",
       "  Subscription Date                   Website  \n",
       "2         3/25/2020  http://www.lawrence.com/  "
      ]
     },
     "metadata": {},
     "output_type": "display_data"
    }
   ],
   "source": [
    "young_people = df_from_csv[df_from_csv['Last Name'] == 'Berry']\n",
    "display(young_people)"
   ]
  },
  {
   "cell_type": "code",
   "execution_count": null,
   "id": "4a972d95",
   "metadata": {},
   "outputs": [
    {
     "name": "stdout",
     "output_type": "stream",
     "text": [
      "Beck-Hendrix\n"
     ]
    }
   ],
   "source": [
    "# Accessing a specific cell by row and column label\n",
    "cell_value = df_from_csv.at[9,'Company']\n",
    "print(cell_value)"
   ]
  },
  {
   "cell_type": "code",
   "execution_count": null,
   "id": "7b23ba2b",
   "metadata": {},
   "outputs": [
    {
     "name": "stdout",
     "output_type": "stream",
     "text": [
      "Index                0\n",
      "Customer Id          0\n",
      "First Name           0\n",
      "Last Name            0\n",
      "Company              0\n",
      "City                 0\n",
      "Country              0\n",
      "Phone 1              0\n",
      "Phone 2              0\n",
      "Email                0\n",
      "Subscription Date    0\n",
      "Website              0\n",
      "dtype: int64\n"
     ]
    }
   ],
   "source": [
    "import pandas as pd \n",
    "# read the csv file into a dataframe\n",
    "df = pd.read_csv(\"D:/data.csv\")\n",
    "#count the number of missing in each column of the dataframe\n",
    "missing_value_count = df.isnull().sum()\n",
    "print(missing_value_count)"
   ]
  },
  {
   "cell_type": "code",
   "execution_count": null,
   "id": "1fb2f1cb",
   "metadata": {},
   "outputs": [
    {
     "name": "stdout",
     "output_type": "stream",
     "text": [
      "Unique values (for categorical column):\n",
      "City\n",
      "East Leonard         1\n",
      "East Jimmychester    1\n",
      "Isabelborough        1\n",
      "Bensonview           1\n",
      "West Priscilla       1\n",
      "                    ..\n",
      "East Richard         1\n",
      "New Bradview         1\n",
      "Ortegaland           1\n",
      "Lake Elijahview      1\n",
      "Judymouth            1\n",
      "Name: count, Length: 100, dtype: int64\n"
     ]
    }
   ],
   "source": [
    "import pandas as pd\n",
    "\n",
    "unique_values = df['City'].value_counts()  # ✅ plural 'counts', no space in variable name\n",
    "print(\"Unique values (for categorical column):\")\n",
    "print(unique_values)\n"
   ]
  }
 ],
 "metadata": {
  "kernelspec": {
   "display_name": "Python 3",
   "language": "python",
   "name": "python3"
  },
  "language_info": {
   "codemirror_mode": {
    "name": "ipython",
    "version": 3
   },
   "file_extension": ".py",
   "mimetype": "text/x-python",
   "name": "python",
   "nbconvert_exporter": "python",
   "pygments_lexer": "ipython3",
   "version": "3.13.5"
  }
 },
 "nbformat": 4,
 "nbformat_minor": 5
}
