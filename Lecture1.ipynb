{
 "cells": [
  {
   "cell_type": "markdown",
   "id": "440b6268",
   "metadata": {},
   "source": [
    "ASSIGN A VALUE TO A VARIABLE\n"
   ]
  },
  {
   "cell_type": "code",
   "execution_count": 2,
   "id": "b6467905",
   "metadata": {},
   "outputs": [
    {
     "name": "stdout",
     "output_type": "stream",
     "text": [
      "20\n"
     ]
    }
   ],
   "source": [
    "num = 20\n",
    "print(num)"
   ]
  },
  {
   "cell_type": "code",
   "execution_count": 3,
   "id": "ee3160ae",
   "metadata": {},
   "outputs": [
    {
     "name": "stdout",
     "output_type": "stream",
     "text": [
      "hi my name is abdullah  hi my name is abdullah  hi my name is abdullah  hi my name is abdullah  my age is :24\n",
      "<class 'str'>\n",
      "<class 'int'>\n"
     ]
    }
   ],
   "source": [
    "p = \"hi my name is abdullah \"\n",
    "print(p,p,p,p ,\"my age is :24\")\n",
    "print(type(p))\n",
    "print(type(num))"
   ]
  },
  {
   "cell_type": "code",
   "execution_count": null,
   "id": "9b51389c",
   "metadata": {},
   "outputs": [
    {
     "name": "stdout",
     "output_type": "stream",
     "text": [
      "240 38\n"
     ]
    }
   ],
   "source": [
    "x = 30\n",
    "y = x * 8\n",
    "z = 2 * 4 + x\n",
    "print(y , z)"
   ]
  },
  {
   "cell_type": "code",
   "execution_count": 8,
   "id": "09a8fcb7",
   "metadata": {},
   "outputs": [
    {
     "name": "stdout",
     "output_type": "stream",
     "text": [
      "hello, \n",
      " world,\n",
      " 90,\t jkkl\n",
      "HIHIHIHIHIHIHIHI\n"
     ]
    }
   ],
   "source": [
    "p_string = \"hello, \\n world,\\n 90,\\t jkkl\"\n",
    "print(p_string)\n",
    "\n",
    "y = \"HI\"\n",
    "print(y * 8)"
   ]
  },
  {
   "cell_type": "code",
   "execution_count": 11,
   "id": "829fdfc8",
   "metadata": {},
   "outputs": [
    {
     "name": "stdout",
     "output_type": "stream",
     "text": [
      "<class 'bool'> False\n"
     ]
    }
   ],
   "source": [
    "str = \" I am happy\"\n",
    "number = 20 \n",
    "decimal = 29.909\n",
    "boolean_t =  True\n",
    "boolean_f = False\n",
    "print(type(boolean_t),boolean_f)\n"
   ]
  },
  {
   "cell_type": "code",
   "execution_count": null,
   "id": "d1886b9c",
   "metadata": {},
   "outputs": [
    {
     "data": {
      "text/plain": [
       "False"
      ]
     },
     "execution_count": 12,
     "metadata": {},
     "output_type": "execute_result"
    }
   ],
   "source": [
    "False == 0\n",
    "False == 0\n"
   ]
  },
  {
   "cell_type": "markdown",
   "id": "a547a1a3",
   "metadata": {},
   "source": [
    "CONDITIONAL STATEMENT \n"
   ]
  },
  {
   "cell_type": "code",
   "execution_count": 28,
   "id": "ce7d5d5c",
   "metadata": {},
   "outputs": [
    {
     "name": "stdout",
     "output_type": "stream",
     "text": [
      "hi\n",
      "OK\n"
     ]
    }
   ],
   "source": [
    "# example 1\n",
    "x1 = 5\n",
    "# conditional statement\n",
    "if x1   < 6:\n",
    "    print(\"hi\")\n",
    "    if x1 == 5:\n",
    "        print(\"OK\")\n",
    "else:\n",
    "    print(\"bye\")"
   ]
  },
  {
   "cell_type": "code",
   "execution_count": 31,
   "id": "5e98d755",
   "metadata": {},
   "outputs": [
    {
     "name": "stdout",
     "output_type": "stream",
     "text": [
      "you are eligible for vote\n"
     ]
    }
   ],
   "source": [
    "\n",
    "age = 20\n",
    "if age > 18:\n",
    "    print(\"you are eligible for vote\")\n",
    "\n",
    "else:\n",
    "    print(\"you are  not eligible for vote\")\n",
    "\n"
   ]
  },
  {
   "cell_type": "markdown",
   "id": "9187ecf6",
   "metadata": {},
   "source": [
    "LOOP STATEMENT"
   ]
  },
  {
   "cell_type": "code",
   "execution_count": 34,
   "id": "695223f0",
   "metadata": {},
   "outputs": [
    {
     "name": "stdout",
     "output_type": "stream",
     "text": [
      "1\n",
      "text\n",
      "2\n",
      "text\n",
      "3\n",
      "text\n",
      "4\n",
      "text\n",
      "5\n",
      "text\n",
      "6\n",
      "text\n",
      "7\n",
      "text\n",
      "8\n",
      "text\n",
      "hi \n"
     ]
    }
   ],
   "source": [
    "for i in range(8):\n",
    "    print(i +1)\n",
    "    print(\"text\")\n",
    "print(\"hi \")"
   ]
  },
  {
   "cell_type": "code",
   "execution_count": null,
   "id": "c95fc46d",
   "metadata": {},
   "outputs": [
    {
     "name": "stdout",
     "output_type": "stream",
     "text": [
      "1\n",
      "4\n",
      "7\n",
      "10\n"
     ]
    }
   ],
   "source": [
    "for i in range(1, 12, ):\n",
    "    print(i)"
   ]
  },
  {
   "cell_type": "code",
   "execution_count": 56,
   "id": "89c12e77",
   "metadata": {},
   "outputs": [
    {
     "name": "stdout",
     "output_type": "stream",
     "text": [
      "5 X 1 = 5\n",
      "5 X 2 = 10\n",
      "5 X 3 = 15\n",
      "5 X 4 = 20\n",
      "5 X 5 = 25\n",
      "5 X 6 = 30\n",
      "5 X 7 = 35\n",
      "5 X 8 = 40\n",
      "5 X 9 = 45\n",
      "5 X 10 = 50\n"
     ]
    }
   ],
   "source": [
    "for i in range (1, 11 ):\n",
    "    print(5,\"X\", i , \"=\", 5*i)"
   ]
  },
  {
   "cell_type": "code",
   "execution_count": 57,
   "id": "97e24b7a",
   "metadata": {},
   "outputs": [
    {
     "name": "stdout",
     "output_type": "stream",
     "text": [
      "8 x 1 = 8\n",
      "8 x 2 = 16\n",
      "8 x 3 = 24\n",
      "8 x 4 = 32\n",
      "8 x 5 = 40\n",
      "8 x 6 = 48\n",
      "8 x 7 = 56\n",
      "8 x 8 = 64\n",
      "8 x 9 = 72\n",
      "8 x 10 = 80\n"
     ]
    }
   ],
   "source": [
    "table = 8\n",
    "for value in range (1, 11):\n",
    "    print(table,'x', value, '=', table*value)"
   ]
  },
  {
   "cell_type": "markdown",
   "id": "f3a8d5f3",
   "metadata": {},
   "source": [
    "MULTIPLE ASSINGNMENT"
   ]
  },
  {
   "cell_type": "code",
   "execution_count": 61,
   "id": "bad210e8",
   "metadata": {},
   "outputs": [
    {
     "name": "stdout",
     "output_type": "stream",
     "text": [
      "12 \n",
      " 233\n",
      "x = 12 \n",
      " = 233\n",
      "y = 233\n",
      "z = 343\n"
     ]
    }
   ],
   "source": [
    "x,y,z = 12,233,343\n",
    "\n",
    "print( x,\"\\n\",y)\n",
    "print(\"x =\",x ,\"\\n =\",y)\n",
    "print(\"y =\",y)\n",
    "print(\"z =\" ,z)"
   ]
  },
  {
   "cell_type": "code",
   "execution_count": 66,
   "id": "1810be27",
   "metadata": {},
   "outputs": [
    {
     "name": "stdout",
     "output_type": "stream",
     "text": [
      "john Doe\n",
      "$$$$$\n"
     ]
    }
   ],
   "source": [
    "# STRING USING THE OPERATOR\n",
    "first_name = \"john\"\n",
    "last_name = \" Doe\"\n",
    "full_name = first_name + last_name\n",
    "print(full_name)\n",
    "print(\"$\" * 5)"
   ]
  },
  {
   "cell_type": "code",
   "execution_count": 67,
   "id": "04f3674a",
   "metadata": {},
   "outputs": [
    {
     "name": "stdout",
     "output_type": "stream",
     "text": [
      "9\n",
      "4\n"
     ]
    }
   ],
   "source": [
    "# length\n",
    "text = \"pytho   n\"\n",
    "length = len(text)\n",
    "print(length)\n",
    "print(len(\"asif\"))"
   ]
  },
  {
   "cell_type": "markdown",
   "id": "c7609b5a",
   "metadata": {},
   "source": [
    "STRING INDEXING "
   ]
  },
  {
   "cell_type": "code",
   "execution_count": 69,
   "id": "6ba261c3",
   "metadata": {},
   "outputs": [
    {
     "name": "stdout",
     "output_type": "stream",
     "text": [
      "First_char (index 0): p\n",
      "Second_char (index 1): n\n",
      "Third_char (index 2): d\n"
     ]
    }
   ],
   "source": [
    "text = \"python is good\"\n",
    "\n",
    "first_char = text[0]\n",
    "second_char = text[5]\n",
    "third_char = text[-1]\n",
    "\n",
    "print(\"First_char (index 0):\",first_char)\n",
    "print(\"Second_char (index 1):\",second_char)\n",
    "print(\"Third_char (index 2):\",third_char)\n"
   ]
  },
  {
   "cell_type": "code",
   "execution_count": 76,
   "id": "5bf33283",
   "metadata": {},
   "outputs": [
    {
     "name": "stdout",
     "output_type": "stream",
     "text": [
      "P 0\n",
      "y 1\n",
      "t 2\n",
      "o 4\n",
      "n 5\n",
      "  6\n",
      "i 7\n",
      "s 8\n",
      "  9\n",
      "g 10\n",
      "o 11\n",
      "o 12\n",
      "d 13\n",
      "A\n",
      "B\n",
      "D\n",
      "U\n",
      "L\n",
      "L\n",
      "A\n",
      "H\n",
      " \n",
      "H\n",
      "A\n",
      "S\n",
      "H\n",
      "M\n",
      "I\n"
     ]
    }
   ],
   "source": [
    "# length of text check \n",
    "\n",
    "text = \"Python is good\"\n",
    "\n",
    "for i in range(len(text)):\n",
    "    if i != 3:\n",
    "        print(text[i],i)\n",
    "\n",
    "for i in \"ABDULLAH HASHMI\":\n",
    "    print(i)\n",
    "\n"
   ]
  }
 ],
 "metadata": {
  "kernelspec": {
   "display_name": "Python 3",
   "language": "python",
   "name": "python3"
  },
  "language_info": {
   "codemirror_mode": {
    "name": "ipython",
    "version": 3
   },
   "file_extension": ".py",
   "mimetype": "text/x-python",
   "name": "python",
   "nbconvert_exporter": "python",
   "pygments_lexer": "ipython3",
   "version": "3.13.5"
  }
 },
 "nbformat": 4,
 "nbformat_minor": 5
}
