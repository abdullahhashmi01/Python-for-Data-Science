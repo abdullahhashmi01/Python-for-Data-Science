{
 "cells": [
  {
   "cell_type": "markdown",
   "id": "2ed9b477",
   "metadata": {},
   "source": [
    "Creating Dictionary"
   ]
  },
  {
   "cell_type": "code",
   "execution_count": 8,
   "id": "643ae354",
   "metadata": {},
   "outputs": [
    {
     "name": "stdout",
     "output_type": "stream",
     "text": [
      "Alice\n",
      "20\n",
      "2.3\n",
      "python\n",
      "<class 'dict'>\n"
     ]
    }
   ],
   "source": [
    "student_info = {'name': 'Alice','age' :20,'grade':[1.2,2.3],'course':{'name': 'python', 'code': 'cs101'}}\n",
    "\n",
    "print(student_info['name'])\n",
    "print(student_info['age'])\n",
    "print(student_info['grade'][1])\n",
    "print(student_info['course']['name'])\n",
    "\n",
    "print(type(student_info))"
   ]
  },
  {
   "cell_type": "code",
   "execution_count": 12,
   "id": "3cf5b599",
   "metadata": {},
   "outputs": [
    {
     "name": "stdout",
     "output_type": "stream",
     "text": [
      "{'name': 'Alice', 'age': 20, 'grade': 'A', 'city': 42}\n",
      "{'name': 'Alice', 'age': 20, 'grade': 'A', 'city': 'lahore'}\n",
      "{'name': 'Alice', 'age': 20, 'grade': 'A', 'city': 'lahore', 'agee': 50}\n",
      "{'city': 'newyork', 'marks': 95}\n"
     ]
    }
   ],
   "source": [
    "student_info = {'name': 'Alice','age' :20,'grade':'A'}\n",
    "# EXAMPLE DICTIONARY\n",
    "student_info['city'] = 42\n",
    "print(student_info)\n",
    "# ADD NEW KEY_VALUE PAIR \n",
    "\n",
    "student_info['city'] ='lahore'\n",
    "print(student_info)\n",
    "\n",
    "student_info['agee'] = 50\n",
    "print(student_info)\n",
    "\n",
    "# UPDATE A DICTIONARY WITH THE CONTENTS USING UPDATE METHOD\n",
    "\n",
    "additional_info = {'city': 'newyork', 'marks': 95}\n",
    "student_info.update(additinal_info) # update a dictionary\n",
    "print(additional_info)"
   ]
  },
  {
   "cell_type": "markdown",
   "id": "22ac6ebd",
   "metadata": {},
   "source": [
    "REMOVAL POP()"
   ]
  },
  {
   "cell_type": "code",
   "execution_count": 14,
   "id": "e8888544",
   "metadata": {},
   "outputs": [
    {
     "name": "stdout",
     "output_type": "stream",
     "text": [
      "23\n",
      "{'name': 'Alice', 'grade': 'A'}\n"
     ]
    }
   ],
   "source": [
    "student_info = {'name': 'Alice','age' :23,'grade':'A'}\n",
    "removed_age = student_info.pop('age')\n",
    "\n",
    "print(removed_age)\n",
    "print(student_info)"
   ]
  },
  {
   "cell_type": "markdown",
   "id": "fd2f810a",
   "metadata": {},
   "source": [
    "POPITEM"
   ]
  },
  {
   "cell_type": "code",
   "execution_count": 18,
   "id": "b5d740d1",
   "metadata": {},
   "outputs": [
    {
     "name": "stdout",
     "output_type": "stream",
     "text": [
      "('grade', 'A') <class 'tuple'>\n",
      "{'name': 'Alice', 'age': 23}\n"
     ]
    }
   ],
   "source": [
    "student_info = {'name': 'Alice','age' :23,'grade':'A'}\n",
    "removed_pair = student_info.popitem()\n",
    "\n",
    "print(removed_pair, type(removed_pair))\n",
    "print(student_info)"
   ]
  },
  {
   "cell_type": "code",
   "execution_count": 24,
   "id": "b357f58f",
   "metadata": {},
   "outputs": [
    {
     "name": "stdout",
     "output_type": "stream",
     "text": [
      "{'name': 'Alice'}\n"
     ]
    }
   ],
   "source": [
    "# del \n",
    "student_info = {'name': 'Alice','age' :23,'grade':'A'}\n",
    "del student_info ['age' ] \n",
    "del student_info['grade']\n",
    "print(student_info)"
   ]
  },
  {
   "cell_type": "markdown",
   "id": "fe8570f4",
   "metadata": {},
   "source": [
    "CHECKINF MEMBERSHIP WITH \"IN\"\n"
   ]
  },
  {
   "cell_type": "code",
   "execution_count": 28,
   "id": "c55f0187",
   "metadata": {},
   "outputs": [
    {
     "name": "stdout",
     "output_type": "stream",
     "text": [
      "is age present in the dictionary? True\n"
     ]
    }
   ],
   "source": [
    "student_info = {'name': 'Alice','age' :23,'grade':'A'}\n",
    "is_age_present = 'age' in student_info # checking if 'age' is a key in the dic\n",
    "print(\"is age present in the dictionary?\", is_age_present)"
   ]
  },
  {
   "cell_type": "markdown",
   "id": "d7849a01",
   "metadata": {},
   "source": [
    "THE KEY() METHOD"
   ]
  },
  {
   "cell_type": "code",
   "execution_count": 33,
   "id": "17276f5e",
   "metadata": {},
   "outputs": [
    {
     "name": "stdout",
     "output_type": "stream",
     "text": [
      "dict_keys(['name', 'age', 'grade']) <class 'dict_keys'>\n",
      "Keys in the dictionary: ['name', 'age', 'grade']\n",
      "dict_values(['Alice', 23, 'A']) <class 'dict_values'>\n",
      "values in the dictionary: ['Alice', 23, 'A']\n"
     ]
    }
   ],
   "source": [
    "student_info = {'name': 'Alice','age' :23,'grade':'A'}\n",
    "keys = student_info.keys()\n",
    "print(keys, type(keys))\n",
    "print(\"Keys in the dictionary:\", list(keys))\n",
    "\n",
    "values = student_info.values()\n",
    "print(values, type(values))\n",
    "print(\"values in the dictionary:\", list(values))"
   ]
  },
  {
   "cell_type": "code",
   "execution_count": 44,
   "id": "542b7f3a",
   "metadata": {},
   "outputs": [
    {
     "name": "stdout",
     "output_type": "stream",
     "text": [
      "['name', 'age', 'grade'] <class 'list'>\n",
      "Keys in the dictionary:\n",
      "['Alice', 23, 'A'] <class 'list'>\n",
      "values in the dictionary:\n"
     ]
    }
   ],
   "source": [
    "student_info = {'name': 'Alice','age' :23,'grade':'A'}\n",
    "keys =list(student_info.keys())\n",
    "\n",
    "print(keys, type(keys))\n",
    "print(\"Keys in the dictionary:\")\n",
    "\n",
    "\n",
    "values =list( student_info.values())\n",
    "print(values, type(values))\n",
    "print(\"values in the dictionary:\")\n"
   ]
  },
  {
   "cell_type": "code",
   "execution_count": 50,
   "id": "1fb4b598",
   "metadata": {},
   "outputs": [
    {
     "name": "stdout",
     "output_type": "stream",
     "text": [
      "dict_items([('name', 'Alice'), ('age', 23), ('grade', 'A')])\n",
      "key-value assocaition in the dictionary: list[dict_items([('name', 'Alice'), ('age', 23), ('grade', 'A')])]\n"
     ]
    }
   ],
   "source": [
    "# key- value association in the dictionary \n",
    "student_info = {'name': 'Alice','age' :23,'grade':'A'}\n",
    "items = student_info.items()\n",
    "print(items)\n",
    "print(\"key-value assocaition in the dictionary:\", list[items])"
   ]
  },
  {
   "cell_type": "code",
   "execution_count": null,
   "id": "51e412d9",
   "metadata": {},
   "outputs": [
    {
     "name": "stdout",
     "output_type": "stream",
     "text": [
      "12\n",
      "65\n"
     ]
    }
   ],
   "source": [
    "for i in [12,65,32][:2]:\n",
    "    print(i)"
   ]
  },
  {
   "cell_type": "code",
   "execution_count": 63,
   "id": "790ed442",
   "metadata": {},
   "outputs": [
    {
     "name": "stdout",
     "output_type": "stream",
     "text": [
      "[('age', 23), ('grade', 'A'), ('name', 'Alice')]\n",
      "{'age': 23, 'grade': 'A', 'name': 'Alice'}\n",
      "A\n",
      "A\n",
      "A\n",
      "A\n"
     ]
    }
   ],
   "source": [
    "student_info = {'name': 'Alice','age' :23,'grade':'A'}\n",
    "sorted_dict = sorted(student_info.items(), reverse=False)\n",
    "print(sorted_dict)\n",
    "sorted_dict = dict(sorted_dict)\n",
    "print(sorted_dict)\n",
    "\n",
    "\n",
    "for k,v in student_info.items():\n",
    "    if k == 'grade':\n",
    "        print(v)\n",
    "\n",
    "for k,v in student_info.items():\n",
    "    print(student_info['grade'])"
   ]
  },
  {
   "cell_type": "markdown",
   "id": "ea33b81c",
   "metadata": {},
   "source": [
    "CREATION OF SETS "
   ]
  },
  {
   "cell_type": "code",
   "execution_count": 67,
   "id": "bd237ddf",
   "metadata": {},
   "outputs": [
    {
     "name": "stdout",
     "output_type": "stream",
     "text": [
      "{'blue', 'red', 'yellow', 'green'} <class 'set'>\n"
     ]
    }
   ],
   "source": [
    "# A set is  a collection of unique elements . its element cannot repeating\n",
    "colors = {'red', 'green', 'yellow','blue'}\n",
    "print(colors, type(colors))"
   ]
  },
  {
   "cell_type": "markdown",
   "id": "d1361e0f",
   "metadata": {},
   "source": [
    "SET WITH MIXED DATA TYPES"
   ]
  },
  {
   "cell_type": "code",
   "execution_count": 71,
   "id": "41f4d559",
   "metadata": {},
   "outputs": [
    {
     "name": "stdout",
     "output_type": "stream",
     "text": [
      "{1, 3.14, 'apple', (1, 2, 3), (1, 2, 4)}\n"
     ]
    }
   ],
   "source": [
    "mixed_set = {1, 'apple', 3.14,(1,2,3),1,(1,2,4)}\n",
    "print(mixed_set)"
   ]
  },
  {
   "cell_type": "code",
   "execution_count": 74,
   "id": "05bce4fc",
   "metadata": {},
   "outputs": [
    {
     "name": "stdout",
     "output_type": "stream",
     "text": [
      "{'apple', 'banana', 'Apple', 'orange'}\n",
      "{'apple', 'banana', 'Apples', 'orange'}\n"
     ]
    }
   ],
   "source": [
    "#USING SET() CONSTRUCTOR\n",
    "\n",
    "fruits_set = set(['apple', 'banana', 'orange', 'Apple'])\n",
    "print(fruits_set)\n",
    "\n",
    "\n",
    "fruits_set = set(['apple', 'banana', 'orange', 'Apples'])\n",
    "print(fruits_set)"
   ]
  },
  {
   "cell_type": "markdown",
   "id": "c1a471e2",
   "metadata": {},
   "source": [
    "OPERATIONS ON SETS"
   ]
  },
  {
   "cell_type": "code",
   "execution_count": 75,
   "id": "4574ce2e",
   "metadata": {},
   "outputs": [
    {
     "name": "stdout",
     "output_type": "stream",
     "text": [
      "{1, 2, 3, 4, 5, 6, 7, 8}\n"
     ]
    }
   ],
   "source": [
    "my_set = {1,2,3,4,5}\n",
    "set_to_update = {5,6,7,8}\n",
    "my_set.update(set_to_update)\n",
    "print(my_set)"
   ]
  },
  {
   "cell_type": "code",
   "execution_count": 78,
   "id": "4accf7b2",
   "metadata": {},
   "outputs": [
    {
     "name": "stdout",
     "output_type": "stream",
     "text": [
      "{1, 2, 3, 4, 5, 9}\n"
     ]
    }
   ],
   "source": [
    "# ADD() METHOD\n",
    "my_set ={1,2,3,4,5}\n",
    "my_set.add(9)\n",
    "print(my_set)"
   ]
  },
  {
   "cell_type": "code",
   "execution_count": 87,
   "id": "4280cddb",
   "metadata": {},
   "outputs": [
    {
     "name": "stdout",
     "output_type": "stream",
     "text": [
      "set after removing element: {1, 2, 3, 5}\n"
     ]
    }
   ],
   "source": [
    "# REMOVAL METHOD\n",
    "my_set ={1,2,3,4,5}\n",
    "my_set.remove(4)\n",
    "\n",
    "print(\"set after removing element:\",my_set)\n"
   ]
  },
  {
   "cell_type": "code",
   "execution_count": 88,
   "id": "47af6b44",
   "metadata": {},
   "outputs": [
    {
     "name": "stdout",
     "output_type": "stream",
     "text": [
      "poped element: 1\n",
      "set after poping: {2, 3, 4, 5}\n"
     ]
    }
   ],
   "source": [
    "# POP() METHOD\n",
    "my_set ={1,2,3,4,5}\n",
    "poped_element = my_set.pop()\n",
    "\n",
    "print(\"poped element:\", poped_element)\n",
    "print(\"set after poping:\", my_set)"
   ]
  },
  {
   "cell_type": "code",
   "execution_count": 89,
   "id": "a8c11aae",
   "metadata": {},
   "outputs": [
    {
     "name": "stdout",
     "output_type": "stream",
     "text": [
      "is 4 present in the set True\n"
     ]
    }
   ],
   "source": [
    "# CHECKING MEMBERSHIP USING 'IN' \n",
    "my_set = {1,2,3,4,5}\n",
    "is_four_present = 4 in my_set\n",
    "print(\"is 4 present in the set\", is_four_present)"
   ]
  },
  {
   "cell_type": "code",
   "execution_count": 1,
   "id": "eac7f706",
   "metadata": {},
   "outputs": [
    {
     "name": "stdout",
     "output_type": "stream",
     "text": [
      "Union of set1 and set2: {1, 2, 3, 4, 5}\n",
      "Intersection of set1 and set2: {3}\n"
     ]
    }
   ],
   "source": [
    "# UNION\n",
    "set1 = {1, 2, 3}\n",
    "set2 = [3, 4, 5]\n",
    "\n",
    "# Convert list to set before union\n",
    "union_result = set1 | set(set2)\n",
    "print(\"Union of set1 and set2:\", union_result)\n",
    "\n",
    "\n",
    "# intersection \n",
    "set1 = {1, 2, 3}\n",
    "set2 = [3, 4, 5]\n",
    "\n",
    "# Convert list to set before finding intersection\n",
    "intersection_result = set1 & set(set2)\n",
    "print(\"Intersection of set1 and set2:\", intersection_result)\n",
    "\n",
    "\n",
    "\n"
   ]
  },
  {
   "cell_type": "code",
   "execution_count": 2,
   "id": "6cb63aee",
   "metadata": {},
   "outputs": [
    {
     "name": "stdout",
     "output_type": "stream",
     "text": [
      "Set 1: {1, 2, 3, 4, 5}\n",
      "Set 2: {4, 5, 6, 7, 8}\n",
      "Intersection: {4, 5}\n",
      "Union: {1, 2, 3, 4, 5, 6, 7, 8}\n",
      "Difference (set1 - set2): {1, 2, 3}\n",
      "Symmetric Difference: {1, 2, 3, 6, 7, 8}\n"
     ]
    }
   ],
   "source": [
    "\n",
    "# Two sets for demonstration\n",
    "set1 = {1, 2, 3, 4, 5}\n",
    "set2 = {4, 5, 6, 7, 8}\n",
    "\n",
    "# Display both sets\n",
    "print(\"Set 1:\", set1)\n",
    "print(\"Set 2:\", set2)\n",
    "\n",
    "# Intersection\n",
    "print(\"Intersection:\", set1 & set2)\n",
    "\n",
    "# Union\n",
    "print(\"Union:\", set1 | set2)\n",
    "\n",
    "# Difference (elements in set1 but not in set2)\n",
    "print(\"Difference (set1 - set2):\", set1 - set2)\n",
    "\n",
    "# Symmetric Difference (elements in either set1 or set2 but not both)\n",
    "print(\"Symmetric Difference:\", set1 ^ set2)\n"
   ]
  },
  {
   "cell_type": "code",
   "execution_count": 111,
   "id": "bd343f03",
   "metadata": {},
   "outputs": [
    {
     "name": "stdout",
     "output_type": "stream",
     "text": [
      "m5 100\n",
      "m5\n",
      "100\n"
     ]
    }
   ],
   "source": [
    "m = {'m1':78, 'm2':67, 'm3':56, 'm4':84, 'm5':100}\n",
    "\n",
    "max_val = max(m.values())\n",
    "for k,v in m.items():\n",
    "    if v == max_val:\n",
    "        print(k, v)\n",
    "\n",
    "max_key = max (m, key=m.get)\n",
    "max_value = m[max_key]\n",
    "\n",
    "print(max_key)\n",
    "print(max_value)\n"
   ]
  }
 ],
 "metadata": {
  "kernelspec": {
   "display_name": "Python 3",
   "language": "python",
   "name": "python3"
  },
  "language_info": {
   "codemirror_mode": {
    "name": "ipython",
    "version": 3
   },
   "file_extension": ".py",
   "mimetype": "text/x-python",
   "name": "python",
   "nbconvert_exporter": "python",
   "pygments_lexer": "ipython3",
   "version": "3.13.5"
  }
 },
 "nbformat": 4,
 "nbformat_minor": 5
}
