{
 "cells": [
  {
   "cell_type": "markdown",
   "id": "3cc0903d",
   "metadata": {},
   "source": [
    "LOOP CONTROL STATEMENTS\n"
   ]
  },
  {
   "cell_type": "markdown",
   "id": "1eff8a69",
   "metadata": {},
   "source": [
    "BREAK STATEMNET\n"
   ]
  },
  {
   "cell_type": "code",
   "execution_count": 1,
   "id": "8fd7d01f",
   "metadata": {},
   "outputs": [
    {
     "name": "stdout",
     "output_type": "stream",
     "text": [
      "0\n",
      "1\n",
      "2\n",
      "3\n",
      "4\n"
     ]
    }
   ],
   "source": [
    "for i in range(10):\n",
    "    if i == 5:\n",
    "        \n",
    "        break\n",
    "    print(i)"
   ]
  },
  {
   "cell_type": "markdown",
   "id": "ab3a02ae",
   "metadata": {},
   "source": [
    "CONTINUE STATEMENTS"
   ]
  },
  {
   "cell_type": "code",
   "execution_count": 2,
   "id": "28ea48ed",
   "metadata": {},
   "outputs": [
    {
     "name": "stdout",
     "output_type": "stream",
     "text": [
      "1\n",
      "2\n",
      "4\n",
      "5\n",
      "6\n"
     ]
    }
   ],
   "source": [
    "for i in range( 1,7):\n",
    "    if i == 3:\n",
    "        continue\n",
    "    print(i)"
   ]
  },
  {
   "cell_type": "markdown",
   "id": "2083dc44",
   "metadata": {},
   "source": [
    " CREATING LIST"
   ]
  },
  {
   "cell_type": "code",
   "execution_count": 3,
   "id": "ecb5929d",
   "metadata": {},
   "outputs": [
    {
     "name": "stdout",
     "output_type": "stream",
     "text": [
      "<class 'list'>\n",
      "67\n"
     ]
    }
   ],
   "source": [
    "a = [1, 54, 67, 76, 46]\n",
    "print(type(a))\n",
    "print(a[2])"
   ]
  },
  {
   "cell_type": "code",
   "execution_count": 22,
   "id": "0822ea3d",
   "metadata": {},
   "outputs": [
    {
     "name": "stdout",
     "output_type": "stream",
     "text": [
      "i\n",
      "<class 'list'>\n",
      "8\n"
     ]
    }
   ],
   "source": [
    "numbers = [1,2,3,4, [2,6,8.0,[23,45,76,100]],\"babari\", 1.60, True]\n",
    "print(numbers[5][-1])\n",
    "print(type(numbers))\n",
    "print(len(numbers))"
   ]
  },
  {
   "cell_type": "markdown",
   "id": "7ace810e",
   "metadata": {},
   "source": [
    "CREATING LIST WITH ELEMENTS"
   ]
  },
  {
   "cell_type": "code",
   "execution_count": 23,
   "id": "ae240c27",
   "metadata": {},
   "outputs": [
    {
     "name": "stdout",
     "output_type": "stream",
     "text": [
      "[1, 2, 3, 34]\n"
     ]
    }
   ],
   "source": [
    "n_list = [1, 2 , 3 , 4]\n",
    "n_list[3]=34\n",
    "print(n_list)"
   ]
  },
  {
   "cell_type": "code",
   "execution_count": 28,
   "id": "7715557c",
   "metadata": {},
   "outputs": [
    {
     "name": "stdout",
     "output_type": "stream",
     "text": [
      "['python', 'is', 'easy', 'and', 'fun', '223']\n",
      "joined sentence:  python--is--easy--and--fun--223\n"
     ]
    }
   ],
   "source": [
    "sentence = \"python is easy and fun 223\"\n",
    "words = sentence.split(\" \")\n",
    "print(words)\n",
    "joined_sentence = \"--\".join(words)\n",
    "print(\"joined sentence: \", joined_sentence)"
   ]
  },
  {
   "cell_type": "code",
   "execution_count": 3,
   "id": "cd30ce2a",
   "metadata": {},
   "outputs": [
    {
     "name": "stdout",
     "output_type": "stream",
     "text": [
      "After append : [22, 43, 545, 45, 10]\n"
     ]
    }
   ],
   "source": [
    "my_list = [22,43,545,45]\n",
    "my_list.append(10)\n",
    "print(\"After append :\", my_list)"
   ]
  },
  {
   "cell_type": "code",
   "execution_count": 5,
   "id": "78296329",
   "metadata": {},
   "outputs": [
    {
     "name": "stdout",
     "output_type": "stream",
     "text": [
      "Final list: [0, 1, 2, 3, 4]\n"
     ]
    }
   ],
   "source": [
    "my_list = []\n",
    "\n",
    "for i in range(5):\n",
    "    my_list.append(i)\n",
    "\n",
    "print(\"Final list:\", my_list)\n"
   ]
  },
  {
   "cell_type": "code",
   "execution_count": null,
   "id": "38ede1e4",
   "metadata": {},
   "outputs": [
    {
     "name": "stdout",
     "output_type": "stream",
     "text": [
      "['Abdullah', 'Abdullah', 'Abdullah', 'Abdullah', 'Abdullah']\n"
     ]
    }
   ],
   "source": [
    "# define an empty list append your name in list 5 time through loop\n",
    "name = []\n",
    "\n",
    "for i in range(5):\n",
    "    name.append(\"Abdullah\")\n",
    "print(name)\n"
   ]
  },
  {
   "cell_type": "code",
   "execution_count": 8,
   "id": "0701b4f7",
   "metadata": {},
   "outputs": [
    {
     "name": "stdout",
     "output_type": "stream",
     "text": [
      "After append : [22, 43, 545, 45, 10]\n",
      "['atif', 'atif', 'atif', 'atif', 'atif']\n",
      "22\n",
      "43\n",
      "545\n",
      "45\n",
      "10\n",
      "22\n",
      "43\n",
      "545\n",
      "45\n",
      "10\n"
     ]
    }
   ],
   "source": [
    "my_list = [22,43,545,45]\n",
    "my_list.append(10)\n",
    "print(\"After append :\", my_list)\n",
    "\n",
    "list_1 = []\n",
    "for i in range(5):\n",
    "    list_1.append(\"atif\")\n",
    "\n",
    "print(list_1)\n",
    "\n",
    "for i in range(len(my_list)):\n",
    "    print(my_list[i])\n",
    "\n",
    "for i in my_list:\n",
    "    print(i)"
   ]
  },
  {
   "cell_type": "markdown",
   "id": "d4db56ff",
   "metadata": {},
   "source": [
    "EXTEND : ADDS ELEMENTS OF ANOTHER LIST TO END OF THE LIST"
   ]
  },
  {
   "cell_type": "code",
   "execution_count": 9,
   "id": "58774864",
   "metadata": {},
   "outputs": [
    {
     "name": "stdout",
     "output_type": "stream",
     "text": [
      "After extend: [1, 2, 3, 4, 4, 5, 6, 7]\n",
      "[4, 5, 6, 7]\n"
     ]
    }
   ],
   "source": [
    "list1 =[1,2,3,4]\n",
    "list2 =[4,5,6,7]\n",
    "list1.extend(list2)\n",
    "print(\"After extend:\", list1)\n",
    "print(list2)"
   ]
  },
  {
   "cell_type": "markdown",
   "id": "c043885d",
   "metadata": {},
   "source": [
    "INSRT AN ELEMENT AT A SPECIFIED POSITION IN THE LIST"
   ]
  },
  {
   "cell_type": "code",
   "execution_count": 10,
   "id": "ff2f34cc",
   "metadata": {},
   "outputs": [
    {
     "name": "stdout",
     "output_type": "stream",
     "text": [
      "After insert: [23, 66, 24, 3]\n"
     ]
    }
   ],
   "source": [
    "my_list = [23,24,3]\n",
    "my_list.insert(1,66)\n",
    "print(\"After insert:\",my_list)"
   ]
  },
  {
   "cell_type": "code",
   "execution_count": 11,
   "id": "ee806769",
   "metadata": {},
   "outputs": [
    {
     "data": {
      "text/plain": [
       "[99, 66, 24, 3]"
      ]
     },
     "execution_count": 11,
     "metadata": {},
     "output_type": "execute_result"
    }
   ],
   "source": [
    "my_list[0] =99\n",
    "my_list"
   ]
  },
  {
   "cell_type": "markdown",
   "id": "7626b8f6",
   "metadata": {},
   "source": [
    "**Remove: remove()**"
   ]
  },
  {
   "cell_type": "code",
   "execution_count": 12,
   "id": "0be6f763",
   "metadata": {},
   "outputs": [
    {
     "name": "stdout",
     "output_type": "stream",
     "text": [
      "After remove:  [11, 33, 22, 33]\n"
     ]
    }
   ],
   "source": [
    "my_list = [11,22,33,22,33]\n",
    "my_list.remove(22)\n",
    "print(\"After remove: \",my_list)"
   ]
  },
  {
   "cell_type": "markdown",
   "id": "3cd9b74a",
   "metadata": {},
   "source": [
    "POP() : removes and return the element at a specfied index. if no index is provide the remove and pop "
   ]
  },
  {
   "cell_type": "code",
   "execution_count": 13,
   "id": "048d44b9",
   "metadata": {},
   "outputs": [
    {
     "name": "stdout",
     "output_type": "stream",
     "text": [
      "poped item:  56\n",
      "After pop: [45, 64]\n"
     ]
    }
   ],
   "source": [
    "my_list =[45,56,64]\n",
    "poped_item = my_list.pop(1)\n",
    "print(\"poped item: \",poped_item)\n",
    "print(\"After pop:\", my_list)"
   ]
  },
  {
   "cell_type": "code",
   "execution_count": 14,
   "id": "3f6efced",
   "metadata": {},
   "outputs": [
    {
     "name": "stdout",
     "output_type": "stream",
     "text": [
      "After del: [23, 767]\n"
     ]
    }
   ],
   "source": [
    "my_list = [23,56,767]\n",
    "del my_list[1]\n",
    "print(\"After del:\", my_list)"
   ]
  },
  {
   "cell_type": "code",
   "execution_count": 19,
   "id": "bd68dd64",
   "metadata": {},
   "outputs": [
    {
     "name": "stdout",
     "output_type": "stream",
     "text": [
      "exist\n",
      "96 is : 3 times\n"
     ]
    }
   ],
   "source": [
    "my_list = [7,2,96,24,64,96,96]\n",
    "if 2 in my_list:\n",
    "    print(\"exist\")\n",
    "else:\n",
    "    print(\"do not exist\")\n",
    "\n",
    "count_96 = my_list.count(96)\n",
    "print(\"96 is :\", count_96, \"times\")\n"
   ]
  },
  {
   "cell_type": "code",
   "execution_count": null,
   "id": "d6c89101",
   "metadata": {},
   "outputs": [
    {
     "name": "stdout",
     "output_type": "stream",
     "text": [
      "22\n"
     ]
    }
   ],
   "source": [
    "arr_2D = [\n",
    "    [[1,2,4,5],[32,324,23,43]],\n",
    "    [[23,23,22,24,],[32,22,34,43]]\n",
    "\n",
    "]\n",
    "\n",
    "print(arr_2D[1][0][2])"
   ]
  },
  {
   "cell_type": "code",
   "execution_count": 29,
   "id": "265e78df",
   "metadata": {},
   "outputs": [
    {
     "name": "stdout",
     "output_type": "stream",
     "text": [
      "0 2\n",
      "2 4\n",
      "6 6\n",
      "12 8\n",
      "20 10\n",
      "30\n"
     ]
    }
   ],
   "source": [
    "# Iteration \n",
    "\n",
    "list_1 = [2,4,6,8,10]\n",
    "total = 0 \n",
    "for i in list_1:\n",
    "    print(total,i)\n",
    "    total = total + i\n",
    "print(total)"
   ]
  },
  {
   "cell_type": "markdown",
   "id": "e3bc161f",
   "metadata": {},
   "source": [
    "**Creation tuples**"
   ]
  },
  {
   "cell_type": "code",
   "execution_count": 31,
   "id": "1b57e339",
   "metadata": {},
   "outputs": [
    {
     "name": "stdout",
     "output_type": "stream",
     "text": [
      "(1, 23, 4)\n",
      "<class 'tuple'>\n"
     ]
    }
   ],
   "source": [
    "int_tuple = (1,23,4)\n",
    "print(int_tuple)\n",
    "print(type(int_tuple))"
   ]
  },
  {
   "cell_type": "markdown",
   "id": "e6a9fd08",
   "metadata": {},
   "source": [
    "Creating a mixed type tuple"
   ]
  },
  {
   "cell_type": "code",
   "execution_count": 32,
   "id": "c67837b4",
   "metadata": {},
   "outputs": [
    {
     "name": "stdout",
     "output_type": "stream",
     "text": [
      "('apple', 5, 2.5, True)\n"
     ]
    }
   ],
   "source": [
    "mixed_tuple = (\"apple\", 5,2.5, True)\n",
    "print(mixed_tuple)"
   ]
  },
  {
   "cell_type": "markdown",
   "id": "ad9a5445",
   "metadata": {},
   "source": [
    "elements  are not change in tuple "
   ]
  },
  {
   "cell_type": "code",
   "execution_count": 33,
   "id": "191c74d4",
   "metadata": {},
   "outputs": [
    {
     "name": "stdout",
     "output_type": "stream",
     "text": [
      "(1, 2, 3, 34, 3, 34, 23213, 313)\n"
     ]
    }
   ],
   "source": [
    "original_tuple = (1,2,3,34,3)\n",
    "new_tuple = original_tuple + (34,23213,313)\n",
    "\n",
    "print(new_tuple)"
   ]
  },
  {
   "cell_type": "code",
   "execution_count": 34,
   "id": "71c63048",
   "metadata": {},
   "outputs": [
    {
     "name": "stdout",
     "output_type": "stream",
     "text": [
      "(1, 2, 3, 34, 3, 1, 2, 3, 34, 3, 1, 2, 3, 34, 3)\n"
     ]
    }
   ],
   "source": [
    "original_tuple = (1,2,3,34,3)\n",
    "new_tuple = original_tuple * 3\n",
    "\n",
    "print(new_tuple)"
   ]
  },
  {
   "cell_type": "code",
   "execution_count": 35,
   "id": "28a95ed0",
   "metadata": {},
   "outputs": [
    {
     "name": "stdout",
     "output_type": "stream",
     "text": [
      "1\n",
      "2\n",
      "3\n"
     ]
    }
   ],
   "source": [
    "my_tuple = (1,2,3)\n",
    "for element in my_tuple:\n",
    "    print(element)"
   ]
  },
  {
   "cell_type": "code",
   "execution_count": 36,
   "id": "0f4803cb",
   "metadata": {},
   "outputs": [
    {
     "name": "stdout",
     "output_type": "stream",
     "text": [
      "<class 'tuple'>\n",
      "1 2 three\n"
     ]
    }
   ],
   "source": [
    "# tuple packing and un packing\n",
    "\n",
    "my_tuple = (1,2,\"three\")\n",
    "print(type(my_tuple))\n",
    "\n",
    "a,b,c = my_tuple\n",
    "print(a,b,c)"
   ]
  },
  {
   "cell_type": "markdown",
   "id": "74aac1fb",
   "metadata": {},
   "source": [
    "Ord() and chr() A character to its unicode code point and vice and versa."
   ]
  },
  {
   "cell_type": "code",
   "execution_count": 39,
   "id": "38a17ddb",
   "metadata": {},
   "outputs": [
    {
     "name": "stdout",
     "output_type": "stream",
     "text": [
      "65\n",
      "a\n"
     ]
    }
   ],
   "source": [
    "char = \"A\"\n",
    "\n",
    "unicode_value = ord(\"A\")\n",
    "char_again = chr(97)\n",
    "\n",
    "print(unicode_value)\n",
    "print(char_again)"
   ]
  },
  {
   "cell_type": "code",
   "execution_count": null,
   "id": "d36d786b",
   "metadata": {},
   "outputs": [
    {
     "name": "stdout",
     "output_type": "stream",
     "text": [
      "odd\n"
     ]
    }
   ],
   "source": [
    "# %  modulus opertor which return the remanider of a divison\n",
    "\n",
    "x  = 5\n",
    "if x % 2 == 0:\n",
    "    print(\"even\")\n",
    "\n",
    "else:\n",
    "    print(\"odd\")"
   ]
  },
  {
   "cell_type": "code",
   "execution_count": 49,
   "id": "d87366fd",
   "metadata": {},
   "outputs": [
    {
     "name": "stdout",
     "output_type": "stream",
     "text": [
      "{27} °C - Mild weather\n",
      "{49} °C - Heat wave alert\n",
      "{35} °C - Mild weather\n",
      "{12} °C - Mild weather\n",
      "{31} °C - Mild weather\n",
      "{22} °C - Mild weather\n"
     ]
    }
   ],
   "source": [
    "temperature = [27, 49, 35, 12, 31, 22]\n",
    "\n",
    "for temp in temperature:\n",
    "    if temp > 40:\n",
    "        print({temp},\"°C - Heat wave alert\")\n",
    "    else:\n",
    "        print({temp},\"°C - Mild weather\")\n"
   ]
  }
 ],
 "metadata": {
  "kernelspec": {
   "display_name": "Python 3",
   "language": "python",
   "name": "python3"
  },
  "language_info": {
   "codemirror_mode": {
    "name": "ipython",
    "version": 3
   },
   "file_extension": ".py",
   "mimetype": "text/x-python",
   "name": "python",
   "nbconvert_exporter": "python",
   "pygments_lexer": "ipython3",
   "version": "3.13.5"
  }
 },
 "nbformat": 4,
 "nbformat_minor": 5
}
