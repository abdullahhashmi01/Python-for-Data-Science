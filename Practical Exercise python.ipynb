{
 "cells": [
  {
   "cell_type": "markdown",
   "id": "938f23a3",
   "metadata": {},
   "source": [
    " LOOP  &  FUNCTIONS"
   ]
  },
  {
   "cell_type": "markdown",
   "id": "4badab9f",
   "metadata": {},
   "source": [
    "You are building a shopping cart application. How would you use functions to calculate the total price of items in a cart with different quantities and prices?​"
   ]
  },
  {
   "cell_type": "code",
   "execution_count": 3,
   "id": "c80b0c97",
   "metadata": {},
   "outputs": [
    {
     "name": "stdout",
     "output_type": "stream",
     "text": [
      "1528.91\n"
     ]
    }
   ],
   "source": [
    "def calculate_total_price(item_prices, item_quantities):\n",
    "    total = 0\n",
    "\n",
    "    for price , quantity in zip (item_prices , item_quantities):\n",
    "        total += price * quantity\n",
    "\n",
    "    return total\n",
    "\n",
    "prices = [10.99 , 683.33 , 32.32]\n",
    "quantities = [3 , 2 , 4]\n",
    "\n",
    "total_price = calculate_total_price(prices, quantities)\n",
    "print(total_price)"
   ]
  },
  {
   "cell_type": "markdown",
   "id": "9b9eca33",
   "metadata": {},
   "source": [
    " You are working on a data analysis project and need to apply a custom transformation to each element in a dataset. How can you use a function to apply this transformation efficiently?​"
   ]
  },
  {
   "cell_type": "code",
   "execution_count": 9,
   "id": "e71e7a72",
   "metadata": {},
   "outputs": [
    {
     "name": "stdout",
     "output_type": "stream",
     "text": [
      "[2, 4, 6, 8, 10, 12]\n"
     ]
    }
   ],
   "source": [
    "def custom_transformation(data):\n",
    "    transformed_data = []  # Initialize the list before using it\n",
    "    for item in data:\n",
    "        # APPLY CUSTOM TRANSFORMATION HERE\n",
    "        transformed_item = item * 2\n",
    "        transformed_data.append(transformed_item)\n",
    "    return transformed_data\n",
    "\n",
    "data = [1, 2, 3, 4, 5, 6]\n",
    "result = custom_transformation(data)\n",
    "print(result)\n"
   ]
  },
  {
   "cell_type": "markdown",
   "id": "64376589",
   "metadata": {},
   "source": [
    "You are developing a web application and want to implement user authentication. How can you use functions to handle user login and validation?​"
   ]
  },
  {
   "cell_type": "code",
   "execution_count": 14,
   "id": "c6036e86",
   "metadata": {},
   "outputs": [
    {
     "name": "stdout",
     "output_type": "stream",
     "text": [
      "Login Successful\n"
     ]
    }
   ],
   "source": [
    "def login(username , password):\n",
    "\n",
    "    # Check username and password against a database or authentication service​\n",
    "    if username == \"user\" and password == \"password\" :\n",
    "        return True \n",
    "    return False \n",
    "\n",
    "user_input_username = input(\"Enter your  username: \")\n",
    "user_input_password = input(\"Enter your password: \")\n",
    "\n",
    "if login(user_input_username, user_input_password):\n",
    "    print(\"Login Successful\")\n",
    "\n",
    "else :\n",
    "    print(\"Login failed. Please check your credentials.\")"
   ]
  },
  {
   "cell_type": "markdown",
   "id": "9ef0489d",
   "metadata": {},
   "source": [
    "You are developing a scientific calculator application. How can you use functions to implement various mathematical operations like addition, subtraction, multiplication, and division?​"
   ]
  },
  {
   "cell_type": "code",
   "execution_count": 17,
   "id": "51e31180",
   "metadata": {},
   "outputs": [
    {
     "name": "stdout",
     "output_type": "stream",
     "text": [
      "Addition: 15\n",
      "Subtraction: 5\n",
      "Multiplication: 50\n",
      "Division: 2.0\n"
     ]
    }
   ],
   "source": [
    "def add(x, y):\n",
    "    return x + y\n",
    "\n",
    "def subtract(x, y):\n",
    "    return x - y\n",
    "\n",
    "def multiply(x, y):\n",
    "    return x * y\n",
    "\n",
    "def divide(x, y):\n",
    "    if y == 0:\n",
    "        return \"Error: Division by zero\"\n",
    "    return x / y\n",
    "\n",
    "# Example usage\n",
    "num1 = 10\n",
    "num2 = 5\n",
    "\n",
    "result_add = add(num1, num2)\n",
    "result_subtract = subtract(num1, num2)\n",
    "result_multiply = multiply(num1, num2)\n",
    "result_divide = divide(num1, num2)\n",
    "\n",
    "print(f\"Addition: {result_add}\")\n",
    "print(f\"Subtraction: {result_subtract}\")\n",
    "print(f\"Multiplication: {result_multiply}\")\n",
    "print(f\"Division: {result_divide}\")\n"
   ]
  },
  {
   "cell_type": "markdown",
   "id": "f36e6fca",
   "metadata": {},
   "source": [
    "**Nested Functions, Closures & Lambda Function​**\n"
   ]
  },
  {
   "cell_type": "markdown",
   "id": "0520570b",
   "metadata": {},
   "source": [
    "Handling User Authentication​\n",
    "\n",
    "Write a Python function called authenticate_users(users, input_username, input_password) that takes a list of user profiles, an input username, and an input password. The function should use a lambda function to filter the list of user profiles based on the provided username and password. If a matching user is found, return their profile; otherwise, return None.​"
   ]
  },
  {
   "cell_type": "code",
   "execution_count": 20,
   "id": "136b52a6",
   "metadata": {},
   "outputs": [
    {
     "name": "stdout",
     "output_type": "stream",
     "text": [
      "Welcome, user1!\n"
     ]
    }
   ],
   "source": [
    "# List of user profiles (each profile is a dictionary)\n",
    "user_profiles = [\n",
    "    {'username': 'user1', 'password': 'password1'},\n",
    "    {'username': 'user2', 'password': 'password2'},\n",
    "    # ... more user profiles ...\n",
    "]\n",
    "\n",
    "# Implement the authenticate_users function\n",
    "def authenticate_users(users, input_username, input_password):\n",
    "    # Use a generator expression with next() to find a matching user\n",
    "    authenticated_user = next(\n",
    "        (user for user in users if user['username'] == input_username and user['password'] == input_password),\n",
    "        None\n",
    "    )\n",
    "    return authenticated_user\n",
    "\n",
    "# Example usage\n",
    "input_username = 'user1'\n",
    "input_password = 'password1'\n",
    "\n",
    "authenticated_user = authenticate_users(user_profiles, input_username, input_password)\n",
    "\n",
    "if authenticated_user:\n",
    "    print(f'Welcome, {authenticated_user[\"username\"]}!')\n",
    "else:\n",
    "    print('Authentication failed. Please check your credentials.')\n"
   ]
  },
  {
   "cell_type": "markdown",
   "id": "db250439",
   "metadata": {},
   "source": [
    "Online Bookstore – Sorting Books by Price Range​\n",
    "\n",
    "Write a Python function called sort_books_by_price_range(books, min_price, max_price) that takes a list of books, a minimum price, and a maximum price as input. The function should use a lambda function to filter and sort the books within the specified price range. It should return a sorted list of books that fall within the given price range. Each book is represented as a dictionary with ‘title’, ‘author’, and ‘price’ keys.​"
   ]
  },
  {
   "cell_type": "code",
   "execution_count": 21,
   "id": "78a87955",
   "metadata": {},
   "outputs": [
    {
     "name": "stdout",
     "output_type": "stream",
     "text": [
      "{'title': 'Book D', 'author': 'Author X', 'price': 200}\n",
      "{'title': 'Book A', 'author': 'Author X', 'price': 250}\n"
     ]
    }
   ],
   "source": [
    "def sort_books_by_price_range(books, min_price, max_price):\n",
    "    # Filter books within the price range\n",
    "    filtered_books = filter(lambda b: min_price <= b['price'] <= max_price, books)\n",
    "    # Sort filtered books by price\n",
    "    sorted_books = sorted(filtered_books, key=lambda b: b['price'])\n",
    "    return sorted_books\n",
    "\n",
    "# Example usage:\n",
    "books = [\n",
    "    {'title': 'Book A', 'author': 'Author X', 'price': 250},\n",
    "    {'title': 'Book B', 'author': 'Author Y', 'price': 150},\n",
    "    {'title': 'Book C', 'author': 'Author Z', 'price': 300},\n",
    "    {'title': 'Book D', 'author': 'Author X', 'price': 200}\n",
    "]\n",
    "\n",
    "min_price = 180\n",
    "max_price = 270\n",
    "\n",
    "result = sort_books_by_price_range(books, min_price, max_price)\n",
    "for book in result:\n",
    "    print(book)\n"
   ]
  },
  {
   "cell_type": "markdown",
   "id": "d3305aff",
   "metadata": {},
   "source": [
    "Exceptions​ Handling"
   ]
  },
  {
   "cell_type": "markdown",
   "id": "ce95e41b",
   "metadata": {},
   "source": [
    "Let’s consider a scenario where we want to read an integer from the user, and we want to handle the possibility that the user might input a non-integer value."
   ]
  },
  {
   "cell_type": "code",
   "execution_count": 22,
   "id": "9bdfb3ea",
   "metadata": {},
   "outputs": [
    {
     "name": "stdout",
     "output_type": "stream",
     "text": [
      "User entered: 23\n",
      "Execution completed.\n"
     ]
    }
   ],
   "source": [
    "def get_user_input():\n",
    "    try:\n",
    "        user_input = int(input(\"Enter an integer: \"))\n",
    "        print(f\"User entered: {user_input}\")\n",
    "    except ValueError:\n",
    "        print(\"Error: Invalid input. Please enter an integer.\")\n",
    "    finally:\n",
    "        print(\"Execution completed.\")\n",
    "\n",
    "# Test the function\n",
    "get_user_input()\n"
   ]
  },
  {
   "cell_type": "markdown",
   "id": "2eb2a533",
   "metadata": {},
   "source": [
    "Let’s consider a scenario where we are creating a simple division calculator that takes user input for the dividend and divisor, aiming to handle potential errors like division by zero or invalid input values by utilizing try, except, and finally blocks."
   ]
  },
  {
   "cell_type": "code",
   "execution_count": 23,
   "id": "84d7da8e",
   "metadata": {},
   "outputs": [
    {
     "name": "stdout",
     "output_type": "stream",
     "text": [
      "\n",
      "--- Example 1: Valid division ---\n",
      "Error: Please enter valid numerical values.\n",
      "Calculator session completed.\n",
      "\n",
      "--- Example 2: Division by zero ---\n",
      "Result of division: 1.2692307692307692\n",
      "Division successful.\n",
      "Calculator session completed.\n",
      "\n",
      "--- Example 3: Invalid input ---\n",
      "Error: Cannot divide by zero!\n",
      "Calculator session completed.\n"
     ]
    }
   ],
   "source": [
    "def simple_calculator():\n",
    "    try:\n",
    "        # Get user input for dividend and divisor\n",
    "        dividend = float(input(\"Enter the dividend: \"))\n",
    "        divisor = float(input(\"Enter the divisor: \"))\n",
    "        \n",
    "        # Perform division and print the result\n",
    "        result = dividend / divisor\n",
    "        print(f\"Result of division: {result}\")\n",
    "    \n",
    "    except ValueError:\n",
    "        print(\"Error: Please enter valid numerical values.\")\n",
    "    \n",
    "    except ZeroDivisionError:\n",
    "        print(\"Error: Cannot divide by zero!\")\n",
    "    \n",
    "    except Exception as e:\n",
    "        print(f\"An unexpected error occurred: {e}\")\n",
    "    \n",
    "    else:\n",
    "        print(\"Division successful.\")\n",
    "    \n",
    "    finally:\n",
    "        print(\"Calculator session completed.\")\n",
    "\n",
    "\n",
    "# Call the function three times to test different scenarios\n",
    "print(\"\\n--- Example 1: Valid division ---\")\n",
    "simple_calculator()\n",
    "\n",
    "print(\"\\n--- Example 2: Division by zero ---\")\n",
    "simple_calculator()\n",
    "\n",
    "print(\"\\n--- Example 3: Invalid input ---\")\n",
    "simple_calculator()\n"
   ]
  },
  {
   "cell_type": "markdown",
   "id": "3fa82422",
   "metadata": {},
   "source": [
    "Check Positive, Negative, or Zero\n",
    "Input Type: Integer (int)\n",
    "\n",
    "Output Type: String (str)\n",
    "\n",
    "Sample Input: -5\n",
    "\n",
    "Sample Output: Negative\n"
   ]
  },
  {
   "cell_type": "code",
   "execution_count": null,
   "id": "7e54f031",
   "metadata": {},
   "outputs": [
    {
     "name": "stdout",
     "output_type": "stream",
     "text": [
      "Negative\n"
     ]
    }
   ],
   "source": [
    "input = -5\n",
    "if input < 0:\n",
    "    print(\"Negative\")   \n",
    "else:\n",
    "    print(\"Non-negative\")       \n",
    "\n"
   ]
  },
  {
   "cell_type": "markdown",
   "id": "62ed71c8",
   "metadata": {},
   "source": [
    "Count Even and Odd Numbers in a List\n",
    "Input Type: List of integers (list[int])\n",
    "\n",
    "Output Type: String with two integers (str + int)\n",
    "\n",
    "Sample Input: [1, 2, 3, 4, 5, 6]\n",
    "\n",
    "Sample Output: Even: 3, Odd: 3\n",
    "\n"
   ]
  },
  {
   "cell_type": "code",
   "execution_count": null,
   "id": "6914896e",
   "metadata": {},
   "outputs": [
    {
     "name": "stdout",
     "output_type": "stream",
     "text": [
      " Count of Even numbers: 3 \n",
      " Count of Odd numbers: 3\n"
     ]
    }
   ],
   "source": [
    "list_int = [1, 2, 3, 4, 5,6]\n",
    "even_numbers = 0\n",
    "odd_numbers = 0\n",
    "for number in list_int:\n",
    "    if number % 2 == 0:\n",
    "        even_numbers = even_numbers + 1\n",
    "    else:\n",
    "        odd_numbers = odd_numbers + 1\n",
    "\n",
    "print(\" Count of Even numbers:\", even_numbers, \"\\n\" , \"Count of Odd numbers:\", odd_numbers)"
   ]
  },
  {
   "cell_type": "markdown",
   "id": "a5a4a9fb",
   "metadata": {},
   "source": [
    "Find First Non-Repeating Character\n",
    "Input Type: String (str)\n",
    "\n",
    "Output Type: String (str)\n",
    "\n",
    "Sample Input: swiss\n",
    "\n",
    "Sample Output: First non-repeating character: w\n"
   ]
  },
  {
   "cell_type": "code",
   "execution_count": null,
   "id": "040a5e3b",
   "metadata": {},
   "outputs": [
    {
     "name": "stdout",
     "output_type": "stream",
     "text": [
      "Found the repeating letter 's'\n"
     ]
    }
   ],
   "source": [
    "word = \"swiss\"\n",
    "\n",
    "for i in word:\n",
    "    if i == \"s\":\n",
    "        print(\"Found the repeating letter 's'\")\n",
    "        break"
   ]
  },
  {
   "cell_type": "markdown",
   "id": "8b1e1382",
   "metadata": {},
   "source": [
    "Reverse a List\n",
    "Input Type: List of integers (list[int])\n",
    "\n",
    "Output Type: List of integers (list[int])\n",
    "\n",
    "Sample Input: [10, 20, 30, 40]\n",
    "\n",
    "Sample Output: [40, 30, 20, 10]\n"
   ]
  },
  {
   "cell_type": "code",
   "execution_count": null,
   "id": "9b5f6cac",
   "metadata": {},
   "outputs": [
    {
     "name": "stdout",
     "output_type": "stream",
     "text": [
      "[40, 30, 20, 10]\n"
     ]
    }
   ],
   "source": [
    "numbers = [10, 20, 30, 40]\n",
    "\n",
    "def reverse_list(numbers: list[int]):\n",
    "    return numbers[::-1]\n",
    "\n",
    "print(reverse_list(numbers))\n"
   ]
  },
  {
   "cell_type": "markdown",
   "id": "df01fc5d",
   "metadata": {},
   "source": [
    "Multiply All Numbers in a Tuple\n",
    "Input Type: Tuple of integers (tuple[int])\n",
    "\n",
    "Output Type: Integer (int)\n",
    "\n",
    "Sample Input: (2, 3, 4)\n",
    "\n",
    "Sample Output: 24\n"
   ]
  },
  {
   "cell_type": "code",
   "execution_count": null,
   "id": "622e54b7",
   "metadata": {},
   "outputs": [
    {
     "name": "stdout",
     "output_type": "stream",
     "text": [
      "24\n"
     ]
    }
   ],
   "source": [
    "def multiply_tuple(numbers: tuple[int]) -> int:\n",
    "    result = 1\n",
    "    for num in numbers:\n",
    "        result *= num\n",
    "    return result\n",
    "\n",
    "# Sample input\n",
    "numbers = (2, 3, 4)\n",
    "print(multiply_tuple(numbers))\n"
   ]
  },
  {
   "cell_type": "markdown",
   "id": "509583fa",
   "metadata": {},
   "source": [
    "Count Specific Word in Sentence\n",
    "Input Type: String (str), Word to count (str)\n",
    "\n",
    "Output Type: String with integer (str + int)\n",
    "\n",
    "Sample Input:\n",
    "\n",
    "Sentence → this is a test and this is simple\n",
    "\n",
    "Word → this\n"
   ]
  },
  {
   "cell_type": "code",
   "execution_count": null,
   "id": "89f39adb",
   "metadata": {},
   "outputs": [
    {
     "name": "stdout",
     "output_type": "stream",
     "text": [
      "Count of 'this': 2\n"
     ]
    }
   ],
   "source": [
    "def count_word(sentence: str, word: str) -> str:\n",
    "    words = sentence.split()\n",
    "    count = words.count(word)\n",
    "    return f\"Count of '{word}': {count}\"\n",
    "\n",
    "# Sample input\n",
    "sentence = \"this is a test and this is simple\"\n",
    "word = \"this\"\n",
    "print(count_word(sentence, word))\n"
   ]
  },
  {
   "cell_type": "markdown",
   "id": "dd555009",
   "metadata": {},
   "source": [
    " Find Numbers Divisible by 3 in a List\n",
    "Input Type: List of integers (list[int])\n",
    "\n",
    "Output Type: List of integers (list[int])\n",
    "\n",
    "Sample Input: [3, 5, 9, 12, 14, 18]\n",
    "\n",
    "Sample Output: [3, 9, 12, 18]\n"
   ]
  },
  {
   "cell_type": "code",
   "execution_count": null,
   "id": "b4b775c2",
   "metadata": {},
   "outputs": [
    {
     "name": "stdout",
     "output_type": "stream",
     "text": [
      "[3, 9, 12, 18]\n"
     ]
    }
   ],
   "source": [
    "def divisible_by_3(numbers: list[int]) -> list[int]:\n",
    "    result = []\n",
    "    for num in numbers:\n",
    "        if num % 3 == 0:\n",
    "            result.append(num)\n",
    "    return result\n",
    "\n",
    "# Sample input\n",
    "numbers = [3, 5, 9, 12, 14, 18]\n",
    "print(divisible_by_3(numbers))\n"
   ]
  },
  {
   "cell_type": "markdown",
   "id": "2743e832",
   "metadata": {},
   "source": [
    "Check Length of String is Even or Odd\n",
    "Input Type: String (str)\n",
    "\n",
    "Output Type: String (str)\n",
    "\n",
    "Sample Input: Python\n",
    "\n",
    "Sample Output: Length is Even\n",
    "\n"
   ]
  },
  {
   "cell_type": "code",
   "execution_count": null,
   "id": "fb8ec3fc",
   "metadata": {},
   "outputs": [
    {
     "name": "stdout",
     "output_type": "stream",
     "text": [
      "Length is Even\n"
     ]
    }
   ],
   "source": [
    "def check_length_type(text: str) -> str:\n",
    "    if len(text) % 2 == 0:\n",
    "        return \"Length is Even\"\n",
    "    else:\n",
    "        return \"Length is Odd\"\n",
    "\n",
    "# Sample input\n",
    "input_text = \"Python\"\n",
    "print(check_length_type(input_text))\n"
   ]
  }
 ],
 "metadata": {
  "kernelspec": {
   "display_name": "Python 3",
   "language": "python",
   "name": "python3"
  },
  "language_info": {
   "codemirror_mode": {
    "name": "ipython",
    "version": 3
   },
   "file_extension": ".py",
   "mimetype": "text/x-python",
   "name": "python",
   "nbconvert_exporter": "python",
   "pygments_lexer": "ipython3",
   "version": "3.13.5"
  }
 },
 "nbformat": 4,
 "nbformat_minor": 5
}
