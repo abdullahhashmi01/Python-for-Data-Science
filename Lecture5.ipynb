{
 "cells": [
  {
   "cell_type": "markdown",
   "id": "efcc7e29",
   "metadata": {},
   "source": [
    "Define  Function def ()"
   ]
  },
  {
   "cell_type": "code",
   "execution_count": 4,
   "id": "2e08ce07",
   "metadata": {},
   "outputs": [
    {
     "name": "stdout",
     "output_type": "stream",
     "text": [
      "45 -9 38\n",
      "50\n",
      "50\n"
     ]
    }
   ],
   "source": [
    "# define a fun named 'square' that take one parameter 'x'\n",
    "def square(x,y,z):\n",
    "    x = x + 2\n",
    "    y = y - 10\n",
    "    z = x + y + z\n",
    "    return x,y,z\n",
    "# call the square fun with an argument and store the result\n",
    "a,b,c = square(43,1,2)\n",
    "print(a,b,c)\n",
    "\n",
    "\n",
    "def mul_by_5(x):\n",
    "    x = x * 5\n",
    "    return x \n",
    "\n",
    "value = mul_by_5(10)\n",
    "print(value)\n",
    "\n",
    "\n",
    "def mul_by_5(x):\n",
    "    return x * 5\n",
    "\n",
    "value = mul_by_5(10)\n",
    "print(value)"
   ]
  },
  {
   "cell_type": "code",
   "execution_count": 10,
   "id": "a31416fe",
   "metadata": {},
   "outputs": [
    {
     "name": "stdout",
     "output_type": "stream",
     "text": [
      "Hello, Abdullah. How are you today?\n"
     ]
    }
   ],
   "source": [
    "# define a fun  named 'greet' that take one para 'name'\n",
    "def greet(name):\n",
    "    return \"Hello, \" + name +  \". How are you today?\"\n",
    "\n",
    "print(greet(\"Abdullah\"))"
   ]
  },
  {
   "cell_type": "code",
   "execution_count": 8,
   "id": "f440c113",
   "metadata": {},
   "outputs": [
    {
     "name": "stdout",
     "output_type": "stream",
     "text": [
      "[4, 9, 36]\n",
      "[16, 81, 1296]\n"
     ]
    }
   ],
   "source": [
    "# write a fun that take 1 input parameter which is a list\n",
    "# the fun should return a list with square value of the input list\n",
    "input = [2,3,6]\n",
    "#output = [4, 9, 36]\n",
    "def squared(x):\n",
    "    for i in range(len(x)):\n",
    "        x[i] = x[i] ** 2\n",
    "    return x\n",
    "\n",
    "print(squared(input))\n",
    "\n",
    "def squared(x):\n",
    "    for i in range(len(x)):\n",
    "        x[i] = x[i] ** 2\n",
    "    return x\n",
    "\n",
    "print(squared(input))"
   ]
  },
  {
   "cell_type": "code",
   "execution_count": 7,
   "id": "a6795f08",
   "metadata": {},
   "outputs": [
    {
     "name": "stdout",
     "output_type": "stream",
     "text": [
      "9\n"
     ]
    }
   ],
   "source": [
    "def sum_list(numbers):\n",
    "    total = sum(numbers)\n",
    "    return total\n",
    "\n",
    "input = [2, 3, 4]\n",
    "print(sum_list(input))\n"
   ]
  },
  {
   "cell_type": "code",
   "execution_count": 5,
   "id": "09c947fe",
   "metadata": {},
   "outputs": [
    {
     "name": "stdout",
     "output_type": "stream",
     "text": [
      "291\n"
     ]
    }
   ],
   "source": [
    "def sum_list(numbers):\n",
    "    total = sum(numbers)\n",
    "    return total\n",
    "\n",
    "input = [24, 233, 34]\n",
    "print(sum_list(input))"
   ]
  },
  {
   "cell_type": "code",
   "execution_count": 6,
   "id": "08ae04a2",
   "metadata": {},
   "outputs": [
    {
     "name": "stdout",
     "output_type": "stream",
     "text": [
      "9\n"
     ]
    }
   ],
   "source": [
    "def sum_list(x):\n",
    "    sum = 0\n",
    "    for i in x:\n",
    "        sum += i\n",
    "    return sum\n",
    "\n",
    "list = [2, 3, 4]\n",
    "print(sum_list(list))"
   ]
  },
  {
   "cell_type": "markdown",
   "id": "1d2d52a7",
   "metadata": {},
   "source": [
    "DEFAULT ARGUMENT "
   ]
  },
  {
   "cell_type": "code",
   "execution_count": 10,
   "id": "f6e0e928",
   "metadata": {},
   "outputs": [
    {
     "name": "stdout",
     "output_type": "stream",
     "text": [
      "Hello Atif\n",
      "hi Bob\n",
      "Hello charlie\n",
      "Hello Abdullah\n",
      "hola Hussain\n"
     ]
    }
   ],
   "source": [
    "def greet(name=\"Abdullah\", greeting= \"Hello\"):\n",
    "    print(greeting,name)\n",
    "# calling the fun with and without providing the \"greeting\" argument\n",
    "greet(\"Atif\")\n",
    "greet(\"Bob\",'hi')\n",
    "greet(\"charlie\")\n",
    "greet()\n",
    "greet(greeting = \"hola\", name =\"Hussain\")"
   ]
  },
  {
   "cell_type": "code",
   "execution_count": 14,
   "id": "9f198c73",
   "metadata": {},
   "outputs": [
    {
     "name": "stdout",
     "output_type": "stream",
     "text": [
      "Area of rectangle: (15, 75)\n"
     ]
    }
   ],
   "source": [
    "# define a fun to calcu the area of a triangle\n",
    "def mul_by_5(value):\n",
    "    return value * 5\n",
    "\n",
    "def calculate_area(length, width):\n",
    "    area = length * width\n",
    "    answer = mul_by_5(area)\n",
    "    return area, answer\n",
    "\n",
    "area_of_rectangle = calculate_area(5, 3)\n",
    "print(\"Area of rectangle:\", area_of_rectangle)\n"
   ]
  },
  {
   "cell_type": "markdown",
   "id": "f24203c7",
   "metadata": {},
   "source": [
    "*args allows a fun to accept any number or position arguments"
   ]
  },
  {
   "cell_type": "code",
   "execution_count": 1,
   "id": "3589357d",
   "metadata": {},
   "outputs": [
    {
     "name": "stdout",
     "output_type": "stream",
     "text": [
      "3\n"
     ]
    }
   ],
   "source": [
    "def add(*args):\n",
    "    result = 0\n",
    "    # Iterate through each argument in \"args\"\n",
    "    for num in args:\n",
    "        # Add the current argument to the result\n",
    "        result += num\n",
    "    return result\n",
    "\n",
    "print(add(1, 2))\n"
   ]
  },
  {
   "cell_type": "code",
   "execution_count": 20,
   "id": "3e46e1e3",
   "metadata": {},
   "outputs": [
    {
     "name": "stdout",
     "output_type": "stream",
     "text": [
      "3\n"
     ]
    }
   ],
   "source": [
    "def add(*args):\n",
    "    result = 0\n",
    "    # Iterate through each argument in \"args\"\n",
    "    for num in args:\n",
    "        # Add the current argument to the result\n",
    "        result += num\n",
    "    return result\n",
    "\n",
    "print(add(1, 2))\n"
   ]
  },
  {
   "cell_type": "markdown",
   "id": "8f4d26bd",
   "metadata": {},
   "source": [
    "LAMBDA FUNCTION"
   ]
  },
  {
   "cell_type": "code",
   "execution_count": 2,
   "id": "2bd61a4e",
   "metadata": {},
   "outputs": [
    {
     "name": "stdout",
     "output_type": "stream",
     "text": [
      "9\n"
     ]
    }
   ],
   "source": [
    "add = lambda x,y : x + y\n",
    "print(add(5,4))"
   ]
  },
  {
   "cell_type": "code",
   "execution_count": 4,
   "id": "c36c0ea3",
   "metadata": {},
   "outputs": [
    {
     "name": "stdout",
     "output_type": "stream",
     "text": [
      "16\n"
     ]
    }
   ],
   "source": [
    "# define a lambda fun named \"square\" takes a one argument x and return its square\n",
    "square = lambda x : x * x\n",
    "# call the lambda fun \"square \" with agrument 4, resulting in 4 ** 2 = 16\n",
    "print(square(4))"
   ]
  },
  {
   "cell_type": "code",
   "execution_count": 7,
   "id": "ddc6dc85",
   "metadata": {},
   "outputs": [
    {
     "name": "stdout",
     "output_type": "stream",
     "text": [
      "False\n"
     ]
    }
   ],
   "source": [
    "\n",
    "is_even = lambda x : x % 2 == 0\n",
    "\n",
    "print(is_even(5))\n"
   ]
  },
  {
   "cell_type": "markdown",
   "id": "cf11b47e",
   "metadata": {},
   "source": [
    "EXCEPTIONS "
   ]
  },
  {
   "cell_type": "code",
   "execution_count": 21,
   "id": "9fa0bebe",
   "metadata": {},
   "outputs": [
    {
     "name": "stdout",
     "output_type": "stream",
     "text": [
      "2.5\n",
      "list index out of range\n"
     ]
    }
   ],
   "source": [
    "try: \n",
    "    result = 10 / 4\n",
    "    print(result)\n",
    "    lis = [1,2,3]\n",
    "    print(lis[5])\n",
    "\n",
    "except Exception as e:\n",
    "    print(e)"
   ]
  },
  {
   "cell_type": "code",
   "execution_count": 25,
   "id": "cfcd587e",
   "metadata": {},
   "outputs": [
    {
     "name": "stdout",
     "output_type": "stream",
     "text": [
      "Error : Division by zero.\n",
      "This will always execute\n"
     ]
    }
   ],
   "source": [
    "try:\n",
    "    result = 10/0\n",
    "except ZeroDivisionError :\n",
    "    print(\"Error : Division by zero.\")\n",
    "# this block will always excute , regardless of whether an expception occurired or not \n",
    "finally: print(\"This will always execute\")"
   ]
  },
  {
   "cell_type": "markdown",
   "id": "83cdba25",
   "metadata": {},
   "source": [
    "list comprehension"
   ]
  },
  {
   "cell_type": "code",
   "execution_count": null,
   "id": "4aaa2d9b",
   "metadata": {},
   "outputs": [
    {
     "name": "stdout",
     "output_type": "stream",
     "text": [
      "[0, 2, 4, 6, 8]\n",
      "[0, 3, 6, 9, 12]\n"
     ]
    }
   ],
   "source": [
    "# creating a square a list\n",
    "list1 = []\n",
    "for x in range(5):\n",
    "    list1.append(x*2)\n",
    "print(list1)\n",
    "\n",
    "# 2nd method to list comprehension\n",
    "square = [x*2 for x in range(5)]\n",
    "print(square)\n",
    "\n",
    "\n",
    "cube = [x*3 for x in range(5)]\n",
    "print(cube)\n"
   ]
  },
  {
   "cell_type": "code",
   "execution_count": 34,
   "id": "f4811c0c",
   "metadata": {},
   "outputs": [
    {
     "name": "stdout",
     "output_type": "stream",
     "text": [
      "[0, 3, 6, 9, 12]\n"
     ]
    }
   ],
   "source": [
    "\n",
    "cube = [x*3 for x in range(5)]\n",
    "print(cube)"
   ]
  },
  {
   "cell_type": "code",
   "execution_count": 35,
   "id": "912d658a",
   "metadata": {},
   "outputs": [
    {
     "name": "stdout",
     "output_type": "stream",
     "text": [
      "[0, 1, 4, 27, 16, 125]\n",
      "[0, 4, 16]\n"
     ]
    }
   ],
   "source": [
    "# list comprehension to generate a list of squared for even numbers and cubed values\n",
    "even_squared = [x **2 if x % 2 == 0 else x **3 for x in range (6)]\n",
    "\n",
    "even_squared_1 = [x **2 for x in range (6) if x % 2 ==0]\n",
    "\n",
    "print(even_squared)\n",
    "print(even_squared_1)"
   ]
  },
  {
   "cell_type": "code",
   "execution_count": null,
   "id": "90fae85c",
   "metadata": {},
   "outputs": [
    {
     "name": "stdout",
     "output_type": "stream",
     "text": [
      "[0, 1, 4, 27, 16, 125]\n",
      "[0, 4, 16]\n"
     ]
    }
   ],
   "source": [
    "even_squared = []\n",
    "for x in range(6):\n",
    "    if x % 2 == 0:\n",
    "        even_squared.append(x ** 2)\n",
    "    else:\n",
    "        even_squared.append(x ** 3)\n",
    "\n",
    "even_squared_1 = []\n",
    "for x in range(6):\n",
    "    if x % 2 == 0:\n",
    "        even_squared_1.append(x ** 2)\n",
    "\n",
    "print(even_squared)\n",
    "print(even_squared_1)\n"
   ]
  },
  {
   "cell_type": "code",
   "execution_count": 38,
   "id": "23c7d837",
   "metadata": {},
   "outputs": [
    {
     "name": "stdout",
     "output_type": "stream",
     "text": [
      "[0, 0, 0, 0, 1, 2, 3]\n"
     ]
    }
   ],
   "source": [
    "list1 = [-3,-2,-1,0,1,2,3]\n",
    "print([0 if i < 0 else i for i in list1])"
   ]
  },
  {
   "cell_type": "code",
   "execution_count": 1,
   "id": "f21e3999",
   "metadata": {},
   "outputs": [
    {
     "name": "stdout",
     "output_type": "stream",
     "text": [
      "a2b2c6a8\n"
     ]
    }
   ],
   "source": [
    "input_str = \"aabcccccaaa\"\n",
    "output_str = \"\"\n",
    "\n",
    "count = 1\n",
    "for i in range(1,len(input_str)):\n",
    "    if input_str[i] == input_str[i-1]:\n",
    "        count +=1 \n",
    "    else:\n",
    "        output_str += input_str[i-1] + str(count)\n",
    "output_str += input_str[-1] + str(count)\n",
    "\n",
    "print(output_str)"
   ]
  }
 ],
 "metadata": {
  "kernelspec": {
   "display_name": "Python 3",
   "language": "python",
   "name": "python3"
  },
  "language_info": {
   "codemirror_mode": {
    "name": "ipython",
    "version": 3
   },
   "file_extension": ".py",
   "mimetype": "text/x-python",
   "name": "python",
   "nbconvert_exporter": "python",
   "pygments_lexer": "ipython3",
   "version": "3.13.5"
  }
 },
 "nbformat": 4,
 "nbformat_minor": 5
}
