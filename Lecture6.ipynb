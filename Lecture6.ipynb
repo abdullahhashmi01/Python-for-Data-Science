{
 "cells": [
  {
   "cell_type": "markdown",
   "id": "64fb6d11",
   "metadata": {},
   "source": [
    "Dictionary comprehension"
   ]
  },
  {
   "cell_type": "code",
   "execution_count": null,
   "id": "ce305fc4",
   "metadata": {},
   "outputs": [
    {
     "name": "stdout",
     "output_type": "stream",
     "text": [
      "{1: 1, 2: 4, 3: 9, 4: 16, 5: 25}\n",
      "{1: 1, 2: 4, 3: 9, 4: 16, 5: 25}\n"
     ]
    }
   ],
   "source": [
    "# creating a DIC with number as key and their squares as value using dictionary comprehension\n",
    "square_dict = {x : x ** 2 for x in range (1,6)}\n",
    "print(square_dict)\n",
    "\n",
    "square_dict ={}\n",
    "for x in range(1,6):\n",
    "    square_dict[x] = x**2\n",
    "\n",
    "print(square_dict)"
   ]
  },
  {
   "cell_type": "code",
   "execution_count": 7,
   "id": "2c549bba",
   "metadata": {},
   "outputs": [
    {
     "name": "stdout",
     "output_type": "stream",
     "text": [
      "{'banana': 6, 'orange': 6}\n",
      "{'banana': 6, 'orange': 6}\n",
      "{'orange': 6}\n"
     ]
    }
   ],
   "source": [
    "# using dictionary comprehension to create a DIC mapping words to their lengths\n",
    "words = ['apple', 'banana', 'orange']\n",
    "word_lengths  ={word :len(word) for word in words if len(word) == 6}\n",
    "print(word_lengths)\n",
    "\n",
    "\n",
    "# in simple syntax using a normal for loop and if condition\n",
    "words = ['apple', 'banana', 'orange']\n",
    "word_lengths = {}\n",
    "\n",
    "for word in words:\n",
    "    if len(word) == 6:\n",
    "        word_lengths[word] = len(word)\n",
    "\n",
    "print(word_lengths)\n",
    "\n",
    "\n",
    "words = [ 'apple' , ' banana ' , 'orange']\n",
    "words_length = {}\n",
    "for word in words:\n",
    "\tif len(word) == 6:\n",
    "\t\twords_length[word] = len(word)\n",
    "print(words_length)\n"
   ]
  },
  {
   "cell_type": "markdown",
   "id": "4d2f2ee7",
   "metadata": {},
   "source": [
    "Using a DIC comprehension to create a DIC from two lists"
   ]
  },
  {
   "cell_type": "code",
   "execution_count": null,
   "id": "e43ba79b",
   "metadata": {},
   "outputs": [
    {
     "name": "stdout",
     "output_type": "stream",
     "text": [
      "{'name': 'Alice', 'age': 25, 'city': 'new york'}\n",
      "{'name': 'Alice', 'age': 25, 'city': 'new york'}\n"
     ]
    }
   ],
   "source": [
    "\n",
    "keys = ['name', 'age', 'city']\n",
    "values = ['Alice', 25, 'new york']\n",
    "\n",
    "dic = {}\n",
    "for i in range(len(keys)):\n",
    "    dic[keys[i]] = values[i]\n",
    "\n",
    "print(dic)\n",
    "\n",
    "# creating a dic where elements from the 'keys' list are keys\n",
    "# and elements from the 'values' list and using dic comprehension\n",
    "\n",
    "keys = ['name', 'age', 'city']\n",
    "values = ['Alice', 25, 'new york']\n",
    "\n",
    "# Dictionary comprehension with zip()\n",
    "dic = {k: v for k, v in zip(keys, values)}\n",
    "\n",
    "print(dic)\n",
    "\n",
    "\n"
   ]
  },
  {
   "cell_type": "markdown",
   "id": "f4d043a5",
   "metadata": {},
   "source": [
    "**CREATING NUMPY ARRAY**"
   ]
  },
  {
   "cell_type": "code",
   "execution_count": 29,
   "id": "4cc27b72",
   "metadata": {},
   "outputs": [
    {
     "name": "stdout",
     "output_type": "stream",
     "text": [
      "[[1. 1.]\n",
      " [1. 1.]]\n"
     ]
    },
    {
     "data": {
      "text/plain": [
       "np.float64(1.0)"
      ]
     },
     "execution_count": 29,
     "metadata": {},
     "output_type": "execute_result"
    }
   ],
   "source": [
    "import numpy as np \n",
    "\n",
    "# creating a numpy array filled with ones\n",
    "ones_arr = np.ones((2,2))\n",
    "# convert numpy array to pandas DataFrame\n",
    "print(ones_arr)\n",
    "ones_arr[1][1]"
   ]
  },
  {
   "cell_type": "markdown",
   "id": "591024cd",
   "metadata": {},
   "source": [
    "np.arange()"
   ]
  },
  {
   "cell_type": "code",
   "execution_count": 31,
   "id": "58140463",
   "metadata": {},
   "outputs": [
    {
     "name": "stdout",
     "output_type": "stream",
     "text": [
      "Array from arange:\n",
      "[ 0  2  4  6  8 10]\n"
     ]
    }
   ],
   "source": [
    "import numpy as np\n",
    "# create array using arange\n",
    "arr = np.arange(0,11,2)\n",
    "print(\"Array from arange:\")\n",
    "print(arr)"
   ]
  },
  {
   "cell_type": "markdown",
   "id": "b35454c3",
   "metadata": {},
   "source": [
    "np.linspace()"
   ]
  },
  {
   "cell_type": "code",
   "execution_count": 40,
   "id": "76576350",
   "metadata": {},
   "outputs": [
    {
     "name": "stdout",
     "output_type": "stream",
     "text": [
      "Array from linspace:\n",
      "[ 0.          1.11111111  2.22222222  3.33333333  4.44444444  5.55555556\n",
      "  6.66666667  7.77777778  8.88888889 10.        ]\n",
      "Array from linspace:\n",
      "[ 0.  1.  2.  3.  4.  5.  6.  7.  8.  9. 10.]\n"
     ]
    }
   ],
   "source": [
    "import numpy as np\n",
    "#create array using linspace\n",
    "lin_arr = np.linspace(0,10,10)\n",
    "# print the array\n",
    "print(\"Array from linspace:\")\n",
    "print(lin_arr)\n",
    "\n",
    "lin_arr = np.linspace(0,10,11)\n",
    "# print the array\n",
    "print(\"Array from linspace:\")\n",
    "print(lin_arr)"
   ]
  },
  {
   "cell_type": "code",
   "execution_count": 7,
   "id": "17e896f7",
   "metadata": {},
   "outputs": [
    {
     "name": "stdout",
     "output_type": "stream",
     "text": [
      "[[0.41986757 0.29822899 0.88891575]\n",
      " [0.13364122 0.5226456  0.82049329]\n",
      " [0.04458024 0.55654308 0.17486543]]\n",
      "[[389.69232327  70.71110994  62.19848826]\n",
      " [ 59.91275153 427.93340541 466.30340867]\n",
      " [168.45174219 173.35299162 486.2749851 ]]\n",
      "[[103.01607965  89.44215992 275.27221564]\n",
      " [126.53350863 174.09427018  47.1740592 ]\n",
      " [300.8333728  434.14863078 156.49666313]]\n"
     ]
    }
   ],
   "source": [
    "import numpy as np\n",
    "random = np.random.rand (3,3)\n",
    "\n",
    "print(random)\n",
    "\n",
    "print(np.random.rand(3,3) * 500)\n",
    "\n",
    "rand_arr = 40 + np.random.rand(3,3)*500\n",
    "\n",
    "print(rand_arr)"
   ]
  },
  {
   "cell_type": "code",
   "execution_count": 8,
   "id": "812b3b53",
   "metadata": {},
   "outputs": [
    {
     "name": "stdout",
     "output_type": "stream",
     "text": [
      "[[1 2 3 4]]\n",
      "(1, 4)\n",
      "2\n"
     ]
    }
   ],
   "source": [
    "import numpy as np\n",
    "\n",
    "# create a 2-dimensional array with specified dimension\n",
    "arr = np.array([1,2,3,4], ndmin=2)\n",
    "\n",
    "print(arr)\n",
    "print(arr.shape)\n",
    "print(arr.ndim)"
   ]
  },
  {
   "cell_type": "code",
   "execution_count": null,
   "id": "70a49c2f",
   "metadata": {},
   "outputs": [
    {
     "name": "stdout",
     "output_type": "stream",
     "text": [
      "[[1]\n",
      " [2]\n",
      " [3]\n",
      " [4]]\n",
      "[3]\n"
     ]
    }
   ],
   "source": [
    "import numpy as np\n",
    "# crete a 2-dimensional array with specified dimension\n",
    "arr = np.array([1,2,3,4], ndmin=2)\n",
    "\n",
    "reshaped_arr = arr.reshape((4,1))\n",
    "\n",
    "print(reshaped_arr)\n",
    "print(reshaped_arr)"
   ]
  },
  {
   "cell_type": "code",
   "execution_count": 15,
   "id": "7567c042",
   "metadata": {},
   "outputs": [
    {
     "name": "stdout",
     "output_type": "stream",
     "text": [
      "string array: ['ABC' 'SDF' 'DSSF' '89']\n",
      "<class 'numpy.ndarray'>\n",
      "[np.str_('ABC'), np.str_('SDF'), np.str_('DSSF'), np.str_('89')]\n",
      "<class 'list'>\n"
     ]
    }
   ],
   "source": [
    "import numpy as np\n",
    "str_arr = np.array(['ABC','SDF','DSSF',89], dtype=np.str_)\n",
    "\n",
    "print(\"string array:\", str_arr)\n",
    "print(type(str_arr))\n",
    "print(list(str_arr))\n",
    "print(type(list(str_arr)))"
   ]
  },
  {
   "cell_type": "code",
   "execution_count": 16,
   "id": "ed198d84",
   "metadata": {},
   "outputs": [
    {
     "name": "stdout",
     "output_type": "stream",
     "text": [
      "interger array: [[1 2 3 4 8]]\n"
     ]
    }
   ],
   "source": [
    "import numpy as np\n",
    "int_arr = np.array([1,2,3,4,8.0],dtype=np.int64, ndmin=2)\n",
    "\n",
    "print(\"interger array:\", int_arr)"
   ]
  },
  {
   "cell_type": "code",
   "execution_count": 17,
   "id": "dea80dbb",
   "metadata": {},
   "outputs": [
    {
     "name": "stdout",
     "output_type": "stream",
     "text": [
      "bool array:  [ True False  True  True]\n"
     ]
    }
   ],
   "source": [
    "import numpy as np\n",
    "bool_arr = np.array ([True, False, True, 7], dtype=np.bool)\n",
    "print('bool array: ', bool_arr)"
   ]
  },
  {
   "cell_type": "code",
   "execution_count": 25,
   "id": "37116ca1",
   "metadata": {},
   "outputs": [
    {
     "name": "stdout",
     "output_type": "stream",
     "text": [
      "{'jan': 'january', 'feb': 'febuary', 'mar': 'march'}\n"
     ]
    }
   ],
   "source": [
    "string = \"jan= january ; feb =febuary ; mar = march\"\n",
    "\n",
    "# Step 1: Split into parts by semicolon\n",
    "string_parts = string.split(';')\n",
    "\n",
    "# Step 2: Create empty dictionary\n",
    "dictionary = {}\n",
    "\n",
    "# Step 3: Loop through parts and split by '='\n",
    "for substring in string_parts:\n",
    "    key, value = substring.split('=')\n",
    "    dictionary[key.strip()] = value.strip()  # remove spaces\n",
    "\n",
    "print(dictionary)\n"
   ]
  },
  {
   "cell_type": "markdown",
   "id": "0b7bc761",
   "metadata": {},
   "source": [
    "Indexing and slicing numpy arrays"
   ]
  },
  {
   "cell_type": "code",
   "execution_count": 31,
   "id": "29791013",
   "metadata": {},
   "outputs": [
    {
     "name": "stdout",
     "output_type": "stream",
     "text": [
      "2\n",
      "6\n",
      "6\n",
      "[[4 5 6]\n",
      " [7 8 9]]\n",
      "[[4 5 6]\n",
      " [7 8 9]]\n",
      "[8 9]\n",
      "[8 9]\n"
     ]
    }
   ],
   "source": [
    "import numpy as np\n",
    "arr = np.array([[1,2,3],\n",
    "                [4,5,6],\n",
    "                [7,8,9]], ndmin=2)\n",
    "print(arr.ndim)\n",
    "print(arr[1][2])\n",
    "print(arr[1,2])\n",
    "print(arr[1:3])\n",
    "print(arr[1:3,:])\n",
    "print(arr[2][1:])\n",
    "print(arr[2,1:])"
   ]
  },
  {
   "cell_type": "code",
   "execution_count": 32,
   "id": "aaa5665a",
   "metadata": {},
   "outputs": [
    {
     "name": "stdout",
     "output_type": "stream",
     "text": [
      "boolean mask for values greater than 5:\n",
      " [[False False False]\n",
      " [False False  True]\n",
      " [ True  True  True]]\n",
      "values greater than 5:\n",
      " [6 7 8 9]\n"
     ]
    }
   ],
   "source": [
    "import numpy as np\n",
    "arr = np.array([[1,2,3],\n",
    "                [4,5,6],\n",
    "                [7,8,9]], ndmin=2)\n",
    "\n",
    "mask = arr > 5\n",
    "print(\"boolean mask for values greater than 5:\\n\", mask)\n",
    "filtered = arr[mask]\n",
    "print(\"values greater than 5:\\n\", filtered)"
   ]
  },
  {
   "cell_type": "code",
   "execution_count": 36,
   "id": "f9a162f9",
   "metadata": {},
   "outputs": [
    {
     "name": "stdout",
     "output_type": "stream",
     "text": [
      "[[2 3]\n",
      " [6 7]]\n",
      "[[ 1  2 77  4]\n",
      " [ 5  6  7  8]\n",
      " [ 9 10 11 12]]\n"
     ]
    }
   ],
   "source": [
    "import numpy as np\n",
    "arr = np.array([[1,2,3,4],\n",
    "                [5,6,7,8],\n",
    "                [9,10,11,12]])\n",
    "\n",
    "b = arr[:2 , 1:3]\n",
    "print(b)\n",
    "b[0,1] = 77\n",
    "print(arr)"
   ]
  },
  {
   "cell_type": "code",
   "execution_count": 37,
   "id": "1e010b83",
   "metadata": {},
   "outputs": [
    {
     "name": "stdout",
     "output_type": "stream",
     "text": [
      "mean of arr1: 2.0\n",
      "standard deviation of arr2: 0.816496580927726\n"
     ]
    }
   ],
   "source": [
    "arr1 = np.array([1,2,3])\n",
    "arr2 = np.array([4,5,6])\n",
    "\n",
    "mean_arr1 = np.mean(arr1)\n",
    "std_dev_arr2 = np.std(arr2)\n",
    "\n",
    "print(\"mean of arr1:\", mean_arr1)\n",
    "print(\"standard deviation of arr2:\", std_dev_arr2)"
   ]
  },
  {
   "cell_type": "code",
   "execution_count": null,
   "id": "76032647",
   "metadata": {},
   "outputs": [],
   "source": [
    "list1 = [1,2,3,4,5]\n",
    "k =  2\n",
    "[4,5,1,2,3]"
   ]
  },
  {
   "cell_type": "code",
   "execution_count": 43,
   "id": "52cb5cc0",
   "metadata": {},
   "outputs": [
    {
     "name": "stdout",
     "output_type": "stream",
     "text": [
      "[4, 5, 1, 2, 3]\n"
     ]
    }
   ],
   "source": [
    "list1 = [1, 2, 3, 4, 5]\n",
    "k = 2\n",
    "\n",
    "rotated = list1[-k:] + list1[:-k]\n",
    "print(rotated)\n"
   ]
  }
 ],
 "metadata": {
  "kernelspec": {
   "display_name": "Python 3",
   "language": "python",
   "name": "python3"
  },
  "language_info": {
   "codemirror_mode": {
    "name": "ipython",
    "version": 3
   },
   "file_extension": ".py",
   "mimetype": "text/x-python",
   "name": "python",
   "nbconvert_exporter": "python",
   "pygments_lexer": "ipython3",
   "version": "3.13.5"
  }
 },
 "nbformat": 4,
 "nbformat_minor": 5
}
