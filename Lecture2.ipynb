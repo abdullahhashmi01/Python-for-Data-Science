{
 "cells": [
  {
   "cell_type": "markdown",
   "id": "d16aa807",
   "metadata": {},
   "source": [
    "STRING SLICING"
   ]
  },
  {
   "cell_type": "code",
   "execution_count": null,
   "id": "55e3905e",
   "metadata": {},
   "outputs": [
    {
     "name": "stdout",
     "output_type": "stream",
     "text": [
      "sliced text: to\n",
      "hon\n",
      "nohtyp\n"
     ]
    }
   ],
   "source": [
    "text =\"python\"\n",
    "sliced_text = text[2::2]\n",
    "print(\"sliced text:\", sliced_text)\n",
    "\n",
    "t = text[3:]\n",
    "s = text[:: -1]\n",
    "d = text[-2:-5:1]\n",
    "print(t)\n",
    "print(s)\n",
    "\n",
    "\n"
   ]
  },
  {
   "cell_type": "code",
   "execution_count": 10,
   "id": "52b7a384",
   "metadata": {},
   "outputs": [
    {
     "name": "stdout",
     "output_type": "stream",
     "text": [
      "sliced text: to\n",
      "hon\n",
      "nohtyp\n"
     ]
    }
   ],
   "source": [
    "text =\"python\"\n",
    "sliced_text = text[2::2]\n",
    "print(\"sliced text:\", sliced_text)\n",
    "\n",
    "t = text[3:]\n",
    "s = text[:: -1]\n",
    "d = text[-4:-5:1]\n",
    "print(t)\n",
    "print(s)\n",
    "\n"
   ]
  },
  {
   "cell_type": "markdown",
   "id": "314565b6",
   "metadata": {},
   "source": [
    "STRING METHOD"
   ]
  },
  {
   "cell_type": "code",
   "execution_count": null,
   "id": "858164ea",
   "metadata": {},
   "outputs": [
    {
     "name": "stdout",
     "output_type": "stream",
     "text": [
      "42\n",
      "42.0\n",
      "99.999\n",
      "<class 'str'>\n",
      ".\n"
     ]
    }
   ],
   "source": [
    "number = 42\n",
    "\n",
    "str_number = str(number)\n",
    "flt_number = float(number)\n",
    "int_number = float(\"99.999\")\n",
    "\n",
    "print(str_number)\n",
    "print(flt_number)\n",
    "print(int_number)\n",
    "print(type(str_number))\n",
    "\n",
    "tt = \"99.999\"\n",
    "\n",
    "print(tt[2])"
   ]
  },
  {
   "cell_type": "markdown",
   "id": "e7012376",
   "metadata": {},
   "source": [
    "CASE CONVERSIONS"
   ]
  },
  {
   "cell_type": "code",
   "execution_count": 20,
   "id": "d194fb1a",
   "metadata": {},
   "outputs": [
    {
     "name": "stdout",
     "output_type": "stream",
     "text": [
      "uppercase: S\n",
      "lowercase: python is fun\n"
     ]
    }
   ],
   "source": [
    "text = \"python is fun\"\n",
    "\n",
    "upper_text = text[8].upper()\n",
    "lower_text = text.lower()\n",
    "cap_text = text.capitalize()\n",
    "title_text = text.title()\n",
    "\n",
    "print(\"uppercase:\", upper_text)\n",
    "print(\"lowercase:\" , lower_text)\n",
    "\n",
    "\n"
   ]
  },
  {
   "cell_type": "markdown",
   "id": "7b4cd758",
   "metadata": {},
   "source": [
    "STRIPPED STRING\n"
   ]
  },
  {
   "cell_type": "code",
   "execution_count": 24,
   "id": "30ecda83",
   "metadata": {},
   "outputs": [
    {
     "name": "stdout",
     "output_type": "stream",
     "text": [
      "stripped string: python is fun!\n"
     ]
    },
    {
     "data": {
      "text/plain": [
       "14"
      ]
     },
     "execution_count": 24,
     "metadata": {},
     "output_type": "execute_result"
    }
   ],
   "source": [
    "my_string = \"python is fun!  \"\n",
    "\n",
    "stripped_string = my_string.strip()\n",
    "print(\"stripped string:\" ,stripped_string)\n",
    "len(stripped_string)"
   ]
  },
  {
   "cell_type": "markdown",
   "id": "f057dca1",
   "metadata": {},
   "source": [
    "SEARCH AND REPLACE METHODS\n",
    " "
   ]
  },
  {
   "cell_type": "code",
   "execution_count": 39,
   "id": "9e52165a",
   "metadata": {},
   "outputs": [
    {
     "name": "stdout",
     "output_type": "stream",
     "text": [
      "9\n",
      "replaced sentence: java is easy and python is fun\n"
     ]
    }
   ],
   "source": [
    "sentence = \"python   is easy   and    python is f@#n\"\n",
    "index = sentence.find(\"is\")\n",
    "print(index)\n",
    "\n",
    "replaced_sentence = sentence.replace(\"python\", \"java\",1).replace(\"@#\",\"u\").replace(\"   \", \" \").replace(\"   \", \" \").replace(\"  \",\" \")\n",
    "print(\"replaced sentence:\", replaced_sentence)"
   ]
  },
  {
   "cell_type": "markdown",
   "id": "0fd929ea",
   "metadata": {},
   "source": [
    "COUNT METHOD"
   ]
  },
  {
   "cell_type": "code",
   "execution_count": 42,
   "id": "7fdce6e9",
   "metadata": {},
   "outputs": [
    {
     "name": "stdout",
     "output_type": "stream",
     "text": [
      "3\n",
      "2\n"
     ]
    }
   ],
   "source": [
    "sentence = \"python is easy and python is fun is crsis\"\n",
    "count_is = sentence.count(\" is \")\n",
    "count_on = sentence.count(\"on\")\n",
    "\n",
    "print(count_is)\n",
    "print(count_on)"
   ]
  },
  {
   "cell_type": "markdown",
   "id": "09f96291",
   "metadata": {},
   "source": [
    "FORMATTING METHOD"
   ]
  },
  {
   "cell_type": "code",
   "execution_count": 51,
   "id": "e5b48c3e",
   "metadata": {},
   "outputs": [
    {
     "name": "stdout",
     "output_type": "stream",
     "text": [
      "Formated string: My name is john, and I am 25 years old.\n",
      "My name is john, and I am 25 years old\n",
      "My name is john and I am  25 years old\n",
      "My name is john, and I am 25 years old\n"
     ]
    }
   ],
   "source": [
    "name = \"john\"\n",
    "age = 25\n",
    "\n",
    "formated_string =\"My name is {}, and I am {} years old.\".format(name,age)\n",
    "\n",
    "print(\"Formated string:\", formated_string)\n",
    "print(f\"My name is {name}, and I am {age} years old\")\n",
    "print(\"My name is\", name, \"and I am \", age,\"years old\")\n",
    "print(\"My name is \" + name + \", and I am \" + str(age) + \" years old\")"
   ]
  },
  {
   "cell_type": "markdown",
   "id": "e29e2406",
   "metadata": {},
   "source": [
    "CONDITION IS TRUE AND ANOTHER BLOCK IF ITS FALSE"
   ]
  },
  {
   "cell_type": "code",
   "execution_count": 53,
   "id": "49343bc7",
   "metadata": {},
   "outputs": [
    {
     "name": "stdout",
     "output_type": "stream",
     "text": [
      "x is greater than 5\n"
     ]
    }
   ],
   "source": [
    "x = 10\n",
    "if x > 5:\n",
    "    print(\"x is greater than 5\")\n",
    "\n",
    "else:\n",
    "    print(\"x is not greater than 5\")"
   ]
  },
  {
   "cell_type": "code",
   "execution_count": 56,
   "id": "8c79e8b9",
   "metadata": {},
   "outputs": [
    {
     "name": "stdout",
     "output_type": "stream",
     "text": [
      "x is not equal to 5\n"
     ]
    }
   ],
   "source": [
    "x = 3\n",
    "if x > 5:\n",
    "    print(\"x is greater than 5\")\n",
    "\n",
    "elif x != 5:\n",
    "    print(\"x is not equal to 5\")\n",
    "\n",
    "else:\n",
    "    print(\"x is not greater than 5\")"
   ]
  },
  {
   "cell_type": "markdown",
   "id": "31b159de",
   "metadata": {},
   "source": [
    "NESTED CONDITIONAL STATEMENTS"
   ]
  },
  {
   "cell_type": "code",
   "execution_count": 5,
   "id": "64866637",
   "metadata": {},
   "outputs": [
    {
     "name": "stdout",
     "output_type": "stream",
     "text": [
      "x is greater than 5\n",
      "y is less than 10\n",
      "x is greater than 4\n"
     ]
    }
   ],
   "source": [
    "x = 10 \n",
    "y = 4\n",
    "if x > 5:\n",
    "    print(\"x is greater than 5\")\n",
    "\n",
    "    if y < 10:\n",
    "        print(\"y is less than 10\")\n",
    "\n",
    "        if x >4:\n",
    "            print(\"x is greater than 4\")\n",
    "\n",
    "        else:\n",
    "            print(\"1122\")\n",
    "\n",
    "    elif y < 4:\n",
    "        print(\"jjk\")\n",
    "    else:\n",
    "        print(\"y us greater than or equal to 10\")\n",
    "else:\n",
    "    print(\"x is not greater than 5\")\n",
    "    "
   ]
  },
  {
   "cell_type": "markdown",
   "id": "e90afbc5",
   "metadata": {},
   "source": [
    "INPUT FUNCTION"
   ]
  },
  {
   "cell_type": "code",
   "execution_count": 8,
   "id": "2013d130",
   "metadata": {},
   "outputs": [
    {
     "name": "stdout",
     "output_type": "stream",
     "text": [
      "abdullah\n"
     ]
    }
   ],
   "source": [
    "name = input(\"enter your name:\")\n",
    "print(name)"
   ]
  },
  {
   "cell_type": "markdown",
   "id": "c9d2009e",
   "metadata": {},
   "source": [
    "WHILE LOOP"
   ]
  },
  {
   "cell_type": "code",
   "execution_count": 13,
   "id": "b0c3c4c8",
   "metadata": {},
   "outputs": [
    {
     "name": "stdout",
     "output_type": "stream",
     "text": [
      "loop ended\n"
     ]
    }
   ],
   "source": [
    "count = 8\n",
    "while count < 5:\n",
    "    count = count + 1\n",
    "    print(\"count:\" , count)\n",
    "\n",
    "print(\"loop ended\")"
   ]
  },
  {
   "cell_type": "markdown",
   "id": "1600b628",
   "metadata": {},
   "source": []
  }
 ],
 "metadata": {
  "kernelspec": {
   "display_name": "Python 3",
   "language": "python",
   "name": "python3"
  },
  "language_info": {
   "codemirror_mode": {
    "name": "ipython",
    "version": 3
   },
   "file_extension": ".py",
   "mimetype": "text/x-python",
   "name": "python",
   "nbconvert_exporter": "python",
   "pygments_lexer": "ipython3",
   "version": "3.13.5"
  }
 },
 "nbformat": 4,
 "nbformat_minor": 5
}
